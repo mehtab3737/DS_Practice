{
  "nbformat": 4,
  "nbformat_minor": 0,
  "metadata": {
    "colab": {
      "provenance": []
    },
    "kernelspec": {
      "name": "python3",
      "display_name": "Python 3"
    },
    "language_info": {
      "name": "python"
    }
  },
  "cells": [
    {
      "cell_type": "code",
      "execution_count": 21,
      "metadata": {
        "id": "p7xofg-JXGWY",
        "colab": {
          "base_uri": "https://localhost:8080/"
        },
        "outputId": "57e8aba3-afa1-4f13-e6a6-0945b70e5a86"
      },
      "outputs": [
        {
          "output_type": "stream",
          "name": "stdout",
          "text": [
            "[[  9 -15   2   6]\n",
            " [  3  -5  -9  -2]\n",
            " [  3 -11  -1   1]\n",
            " [  7  -7 -11   2]]\n",
            "[ 22 -38 -19   7]\n",
            "[ True  True  True  True]\n",
            "[[  9 -15   2   6]\n",
            " [  6 -10  11   8]\n",
            " [  3   1  12   7]\n",
            " [ -4   8  23   5]]\n"
          ]
        }
      ],
      "source": [
        "\n",
        "import numpy as np\n",
        "arr=np.random.randint(-15,15,size=(4,4))\n",
        "print(arr)\n",
        "print(np.add.reduce(arr))\n",
        "print(np.logical_and.reduce(arr))\n",
        "\n",
        "print(np.subtract.accumulate(arr))"
      ]
    },
    {
      "cell_type": "code",
      "source": [
        "arr=np.arange(5)\n",
        "print(arr)\n",
        "index=np.array([1,4])\n",
        "np.add.reduceat(arr,index)\n"
      ],
      "metadata": {
        "colab": {
          "base_uri": "https://localhost:8080/"
        },
        "id": "qThMNZ5BnvmD",
        "outputId": "32d9dd1d-cc8c-49a4-869b-813a4e811141"
      },
      "execution_count": 29,
      "outputs": [
        {
          "output_type": "stream",
          "name": "stdout",
          "text": [
            "[0 1 2 3 4]\n"
          ]
        },
        {
          "output_type": "execute_result",
          "data": {
            "text/plain": [
              "array([6, 4])"
            ]
          },
          "metadata": {},
          "execution_count": 29
        }
      ]
    },
    {
      "cell_type": "code",
      "source": [],
      "metadata": {
        "id": "xAx-0_E5pBGb"
      },
      "execution_count": null,
      "outputs": []
    },
    {
      "cell_type": "code",
      "source": [
        "arr2=np.arange(1,21).reshape(4,5)\n",
        "arr2"
      ],
      "metadata": {
        "colab": {
          "base_uri": "https://localhost:8080/"
        },
        "id": "ZR51SdACXTFo",
        "outputId": "70d055cd-533b-4ea9-f1bf-c5f3588c8ec4"
      },
      "execution_count": 4,
      "outputs": [
        {
          "output_type": "execute_result",
          "data": {
            "text/plain": [
              "array([[ 1,  2,  3,  4,  5],\n",
              "       [ 6,  7,  8,  9, 10],\n",
              "       [11, 12, 13, 14, 15],\n",
              "       [16, 17, 18, 19, 20]])"
            ]
          },
          "metadata": {},
          "execution_count": 4
        }
      ]
    },
    {
      "cell_type": "code",
      "source": [
        "arr=np.array([1,2,3,4])\n",
        "arr1=np.array([1,2,3])\n",
        "print(np.add.outer(arr,arr1))\n",
        "print(np.subtract.outer(arr,arr1))"
      ],
      "metadata": {
        "colab": {
          "base_uri": "https://localhost:8080/"
        },
        "id": "U044I2kmXvmV",
        "outputId": "85d4c7ae-61c3-499d-ba4c-243fcb731e4c"
      },
      "execution_count": 32,
      "outputs": [
        {
          "output_type": "stream",
          "name": "stdout",
          "text": [
            "[[2 3 4]\n",
            " [3 4 5]\n",
            " [4 5 6]\n",
            " [5 6 7]]\n",
            "[[ 0 -1 -2]\n",
            " [ 1  0 -1]\n",
            " [ 2  1  0]\n",
            " [ 3  2  1]]\n"
          ]
        }
      ]
    },
    {
      "cell_type": "code",
      "source": [
        "# Given an array of integers representing daily sales for a week, use np.add.reduce to find the total sales for the entire week.\n",
        "arr=np.random.randint(1000,5000,size=7)\n",
        "arr\n",
        "print(np.add.reduce(arr))"
      ],
      "metadata": {
        "colab": {
          "base_uri": "https://localhost:8080/"
        },
        "id": "8sbxJmo2sqRx",
        "outputId": "3c198430-458b-48ce-aa6d-47f49bd46e01"
      },
      "execution_count": 35,
      "outputs": [
        {
          "output_type": "stream",
          "name": "stdout",
          "text": [
            "20916\n"
          ]
        }
      ]
    },
    {
      "cell_type": "code",
      "source": [
        "arr1=np.zeros(10,dtype=int)\n",
        "print(arr1)\n",
        "arr2=np.ones(10,dtype=float)*5\n",
        "print(arr2)\n",
        "arr3=np.concatenate([arr2,arr1])\n",
        "print(arr3)\n",
        "arr4=np.identity(4,dtype=int)\n",
        "print(arr4)\n",
        "arr5=np.empty(9,dtype=int)\n",
        "print(arr5)"
      ],
      "metadata": {
        "colab": {
          "base_uri": "https://localhost:8080/"
        },
        "id": "F7tzcOlJX0z6",
        "outputId": "cf4ed1d3-fdd9-4e4b-9592-2be92fa8028b"
      },
      "execution_count": null,
      "outputs": [
        {
          "output_type": "stream",
          "name": "stdout",
          "text": [
            "[0 0 0 0 0 0 0 0 0 0]\n",
            "[5. 5. 5. 5. 5. 5. 5. 5. 5. 5.]\n",
            "[5. 5. 5. 5. 5. 5. 5. 5. 5. 5. 0. 0. 0. 0. 0. 0. 0. 0. 0. 0.]\n",
            "[[1 0 0 0]\n",
            " [0 1 0 0]\n",
            " [0 0 1 0]\n",
            " [0 0 0 1]]\n",
            "[94602265225506              0              0              0\n",
            "              0              0              0              0\n",
            "              0]\n"
          ]
        }
      ]
    },
    {
      "cell_type": "code",
      "source": [
        "arr2=np.array([1,123,4,5,3,6,7,5])\n",
        "print(arr2)\n",
        "print(np.mean(arr2,axis=0))\n",
        "print(np.median(arr2,axis=0))\n",
        "print(np.std(arr2,axis=0))\n",
        "print(np.var(arr2,axis=0))\n",
        "print(np.min(arr2,axis=0))\n",
        "print(np.max(arr2,axis=0))\n",
        "print(np.argmin(arr2,axis=0))\n",
        "print(np.argmax(arr2,axis=0))\n",
        "print(np.sort(arr2,axis=0))\n",
        "print(np.argsort(arr2,axis=0))\n",
        "print(np.where(arr2==5,arr2,0))\n",
        "print(np.count_nonzero(arr2))"
      ],
      "metadata": {
        "colab": {
          "base_uri": "https://localhost:8080/"
        },
        "id": "6ow2qU4zYOeT",
        "outputId": "146c77f7-44e2-478e-a929-8a9b20a5159a"
      },
      "execution_count": null,
      "outputs": [
        {
          "output_type": "stream",
          "name": "stdout",
          "text": [
            "[  1 123   4   5   3   6   7   5]\n",
            "19.25\n",
            "5.0\n",
            "39.251592324388575\n",
            "1540.6875\n",
            "1\n",
            "123\n",
            "0\n",
            "1\n",
            "[  1   3   4   5   5   6   7 123]\n",
            "[0 4 2 3 7 5 6 1]\n",
            "[0 0 0 5 0 0 0 5]\n",
            "8\n"
          ]
        }
      ]
    },
    {
      "cell_type": "code",
      "source": [
        "import numpy as np\n",
        "arr1=np.arange(10.0,30.0,3.5)\n",
        "print(arr1)\n",
        "print(arr1.dtype)\n",
        "\n"
      ],
      "metadata": {
        "id": "7LVcUPPlZ7mO"
      },
      "execution_count": null,
      "outputs": []
    }
  ]
}