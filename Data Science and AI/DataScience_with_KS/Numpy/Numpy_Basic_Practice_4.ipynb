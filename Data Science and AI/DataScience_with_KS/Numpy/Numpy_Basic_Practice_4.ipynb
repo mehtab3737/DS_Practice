{
 "cells": [
  {
   "cell_type": "markdown",
   "id": "bac7cbe2",
   "metadata": {
    "id": "bac7cbe2"
   },
   "source": [
    "# Problem 1: Reshaping for Image Processing\n",
    "You are working on an image processing project, and you have a grayscale image represented as a 1D NumPy array **img_data** of size **(m * n)**, where m and n are the dimensions of the image. Write a function **reshape_image(img_data, new_shape)** that takes the original image data and a tuple representing the new shape **(p, q)** of the image. Ensure that the total number of pixels remains unchanged. If it's not possible to reshape without changing the total number of pixels, return **None**."
   ]
  },
  {
   "cell_type": "code",
   "execution_count": 25,
   "id": "89bf2b86",
   "metadata": {
    "id": "89bf2b86"
   },
   "outputs": [],
   "source": [
    "# Write your function in this cell\n",
    "def reshape_image(data,shape):\n",
    "    try:\n",
    "        result=np.reshape(data,shape)\n",
    "        return result\n",
    "    except:\n",
    "        retukrn None\n",
    "#We can do same thing manually as well using this code : \n",
    "    # if len(data)!= shape[0]*shape[1]:\n",
    "    #     return None\n",
    "    # else:\n",
    "    #     result=np.reshape(data,shape)\n",
    "    #     return result"
   ]
  },
  {
   "cell_type": "code",
   "execution_count": 27,
   "id": "9a7a3b17",
   "metadata": {
    "id": "9a7a3b17"
   },
   "outputs": [
    {
     "name": "stdout",
     "output_type": "stream",
     "text": [
      "[[0 1 2]\n",
      " [3 4 5]\n",
      " [6 7 8]]\n"
     ]
    }
   ],
   "source": [
    "import numpy as np\n",
    "\n",
    "img_data = np.arange(9)  # Assuming a 3x3 image\n",
    "new_shape = (3, 3)\n",
    "result = reshape_image(img_data, new_shape)\n",
    "print(result)"
   ]
  },
  {
   "cell_type": "markdown",
   "id": "f26eada3",
   "metadata": {
    "id": "f26eada3"
   },
   "source": [
    "# Problem 2: Matrix Transpose\n",
    "You are dealing with a dataset stored as a NumPy array **data_matrix** with dimensions **(m, n)**. Implement a function **transpose_matrix(data_matrix)** that returns the transpose of the given matrix."
   ]
  },
  {
   "cell_type": "code",
   "execution_count": 30,
   "id": "96da3b85",
   "metadata": {
    "id": "96da3b85"
   },
   "outputs": [],
   "source": [
    "# Write your function in this cell\n",
    "def transpose_matrix(data):\n",
    "    result=np.transpose(data)\n",
    "    return result"
   ]
  },
  {
   "cell_type": "code",
   "execution_count": 32,
   "id": "ae176a7e",
   "metadata": {
    "id": "ae176a7e"
   },
   "outputs": [
    {
     "name": "stdout",
     "output_type": "stream",
     "text": [
      "[[1 4]\n",
      " [2 5]\n",
      " [3 6]]\n"
     ]
    }
   ],
   "source": [
    "import numpy as np\n",
    "\n",
    "data_matrix = np.array([[1, 2, 3], [4, 5, 6]])\n",
    "\n",
    "transposed_matrix = transpose_matrix(data_matrix)\n",
    "print(transposed_matrix)"
   ]
  },
  {
   "cell_type": "markdown",
   "id": "60caff17",
   "metadata": {
    "id": "60caff17"
   },
   "source": [
    "# Problem 3: Flattening for Data Processing\n",
    "You have a 2D array representing data from different sensors. Write a function **flatten_sensor_data(sensor_data)** that takes a 2D NumPy array representing the sensor readings and returns a flattened 1D array."
   ]
  },
  {
   "cell_type": "code",
   "execution_count": 43,
   "id": "2070bb01",
   "metadata": {
    "id": "2070bb01"
   },
   "outputs": [],
   "source": [
    "# Write your function in this cell\n",
    "def flatten_sensor_data(data):\n",
    "    result=data.flatten()\n",
    "    return result"
   ]
  },
  {
   "cell_type": "code",
   "execution_count": 45,
   "id": "ddb929ee",
   "metadata": {
    "id": "ddb929ee"
   },
   "outputs": [
    {
     "name": "stdout",
     "output_type": "stream",
     "text": [
      "[10 20 30 40 50 60]\n"
     ]
    }
   ],
   "source": [
    "import numpy as np\n",
    "\n",
    "sensor_data = np.array([[10, 20, 30], [40, 50, 60]])\n",
    "flattened_data = flatten_sensor_data(sensor_data)\n",
    "print(flattened_data)"
   ]
  },
  {
   "cell_type": "code",
   "execution_count": null,
   "id": "5b119c91-5575-428f-9405-47d4c6be1f85",
   "metadata": {},
   "outputs": [],
   "source": []
  }
 ],
 "metadata": {
  "colab": {
   "provenance": []
  },
  "kernelspec": {
   "display_name": "Python 3 (ipykernel)",
   "language": "python",
   "name": "python3"
  },
  "language_info": {
   "codemirror_mode": {
    "name": "ipython",
    "version": 3
   },
   "file_extension": ".py",
   "mimetype": "text/x-python",
   "name": "python",
   "nbconvert_exporter": "python",
   "pygments_lexer": "ipython3",
   "version": "3.12.4"
  }
 },
 "nbformat": 4,
 "nbformat_minor": 5
}
