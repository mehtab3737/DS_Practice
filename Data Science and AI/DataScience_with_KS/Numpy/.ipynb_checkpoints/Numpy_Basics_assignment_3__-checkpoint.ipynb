{
  "nbformat": 4,
  "nbformat_minor": 0,
  "metadata": {
    "colab": {
      "provenance": []
    },
    "kernelspec": {
      "name": "python3",
      "display_name": "Python 3"
    },
    "language_info": {
      "name": "python"
    }
  },
  "cells": [
    {
      "cell_type": "code",
      "execution_count": null,
      "metadata": {
        "id": "qQxFQvrEEKqm"
      },
      "outputs": [],
      "source": [
        "import numpy as np"
      ]
    },
    {
      "cell_type": "code",
      "source": [
        "from google.colab import drive\n",
        "drive.mount('/content/drive')"
      ],
      "metadata": {
        "colab": {
          "base_uri": "https://localhost:8080/"
        },
        "id": "n_ncJAFDEbs1",
        "outputId": "97895b3c-0ca7-4b60-fc50-8c8272fca676"
      },
      "execution_count": null,
      "outputs": [
        {
          "output_type": "stream",
          "name": "stdout",
          "text": [
            "Mounted at /content/drive\n"
          ]
        }
      ]
    },
    {
      "cell_type": "markdown",
      "source": [
        "# Q.1\n",
        "**Statement:** You are working with a retail store that needs to manage its inventory efficiently. They have provided you with a dataset containing information about products, their quantities in stock, and the number of units sold daily for the past week. Total number of products are 5. Your task is to calculate the following:\n",
        "\n",
        "\n",
        "\n",
        "1.The total sales for each product over the past week.\n",
        "\n",
        "2.The average daily sales for each product.\n",
        "\n",
        "3.The product with the highest sales.\n",
        "\n",
        "4.The product with the lowest sales.\n",
        "\n",
        "5.The total sales for all products combined.\n",
        "\n",
        "You are required to use NumPy for efficient data processing and calculations. Write code to solve this inventory management problem."
      ],
      "metadata": {
        "id": "5dL78wl-ElhS"
      }
    },
    {
      "cell_type": "code",
      "source": [
        "import numpy as np\n",
        "\n",
        "# Sample data (replace with your actual data)\n",
        "product_names = np.array(['Product A', 'Product B', 'Product C', 'Product D', 'Product E'])\n",
        "quantities_in_stock = np.array([100, 150, 200, 250, 50])\n",
        "\n",
        "daily_sales_data = np.array([[10, 15, 20, 25, 30, 35, 40],\n",
        "                             [5, 7, 8, 10, 12, 14, 16],\n",
        "                             [15, 20, 25, 30, 35, 40, 40],\n",
        "                             [12, 25, 20, 40, 20, 32, 55],\n",
        "                             [15, 20, 25, 30, 35, 40, 45]])\n",
        "\n",
        "# Calculate total sales revenue for each product over the past week\n",
        "trans=np.transpose(daily_sales_data)\n",
        "total_sales_each_product=np.add.reduce(trans)\n",
        "# Calculate average daily sales for each product\n",
        "avg_sales=np.mean(daily_sales_data,axis=1)\n",
        "for i,j,z in zip(product_names,total_sales_each_product,avg_sales):\n",
        "  print(i)\n",
        "  print(\"total sales revenue $\",j)\n",
        "  print(\"average daily sales\",z)\n",
        "# Find the product with the highest and lowest sales\n",
        "heighest_sales_prod=np.add.reduce(trans).argmax()\n",
        "print(\"Product with heighest sales\",product_names[heighest_sales_prod])\n",
        "lowest_sales_prod=np.add.reduce(trans).argmin()\n",
        "print(\"Product with lowest sales\",product_names[lowest_sales_prod])\n",
        "# Calculate the total sales revenue for all products combined\n",
        "print(\"Total sales revenue is $\",np.sum(total_sales_each_product))\n",
        "\n"
      ],
      "metadata": {
        "id": "DxtXsLXRVpdW",
        "colab": {
          "base_uri": "https://localhost:8080/"
        },
        "outputId": "ffe79789-dacd-41d3-e16c-6d5f69ed52b2"
      },
      "execution_count": null,
      "outputs": [
        {
          "output_type": "stream",
          "name": "stdout",
          "text": [
            "Product A\n",
            "total sales revenue $ 175\n",
            "average daily sales 25.0\n",
            "Product B\n",
            "total sales revenue $ 72\n",
            "average daily sales 10.285714285714286\n",
            "Product C\n",
            "total sales revenue $ 205\n",
            "average daily sales 29.285714285714285\n",
            "Product D\n",
            "total sales revenue $ 204\n",
            "average daily sales 29.142857142857142\n",
            "Product E\n",
            "total sales revenue $ 210\n",
            "average daily sales 30.0\n",
            "Product with heighest sales Product E\n",
            "Product with lowest sales Product B\n",
            "Total sales revenue is $ 866\n"
          ]
        }
      ]
    },
    {
      "cell_type": "markdown",
      "source": [
        "# Q.2\n",
        "**Statement:** Statement: You are working with a manufacturing plant that produces various components. They have provided you with data on the production rates of five different machines over the past month. Your task is to analyze the performance of these machines by calculating the following metrics:\n",
        "\n",
        "1.The total production output for each machine over the past month.\n",
        "\n",
        "2.The average daily production rate for each machine.\n",
        "\n",
        "3.The machine with the highest total production output.\n",
        "\n",
        "4.The machine with the lowest total production output.\n",
        "\n",
        "The overall production efficiency of the plant, which is defined as the ratio of the total production output to the total number of hours worked, and working hour for each day is 2 hours."
      ],
      "metadata": {
        "id": "ICk1qoQHVwDc"
      }
    },
    {
      "cell_type": "code",
      "source": [
        "\n",
        "\n",
        "# Sample data (replace with your actual data)\n",
        "machine_names=np.array([\"Machine 1\",\"Machine 2\",\"Machine 3\",\"Machine 4\",\"Machine 5\"])\n",
        "# Generate random production rates between 100 and 200 for 5 machines and 30 days\n",
        "production_rates_per_machine=np.random.randint(100,200,size=(5,30))\n",
        "# Calculate total production output for each machine over the past month\n",
        "total_production_permachiene=np.add.reduce(production_rates_per_machine,axis=1)\n",
        "\n",
        "# Calculate average daily production rate for each machine\n",
        "avg_production_permachine=np.mean(production_rates_per_machine,axis=1)\n",
        "for i,j,z in zip(machine_names,total_production_permachiene,avg_production_permachine):\n",
        "  print(i)\n",
        "  print(\"Total production \",j)\n",
        "  print(\"Average production rate\",z)\n",
        "# Find the machine with the highest and lowest total production output\n",
        "heighest_production_rate_machiene=np.add.reduce(production_rates_per_machine,axis=1).argmax()\n",
        "print(\"Machiene with heighest production is\",machine_names[heighest_production_rate_machiene])\n",
        "lowest_production_rate_machiene=np.add.reduce(production_rates_per_machine,axis=1).argmin()\n",
        "print(\"Machiene with lowest production is\",machine_names[lowest_production_rate_machiene])\n",
        "# Calculate the overall production efficiency of the plant\n",
        "overall_prod_efficiency=np.sum(total_production_permachiene)\n",
        "print(\"overall production efficiency of the plant is \",overall_prod_efficiency)\n"
      ],
      "metadata": {
        "id": "lIu6pfmgbUQd",
        "colab": {
          "base_uri": "https://localhost:8080/"
        },
        "outputId": "33b43e66-fb43-4644-d060-d3ad04e83758"
      },
      "execution_count": null,
      "outputs": [
        {
          "output_type": "stream",
          "name": "stdout",
          "text": [
            "Machine 1\n",
            "Total production  4202\n",
            "Average production rate 140.06666666666666\n",
            "Machine 2\n",
            "Total production  4560\n",
            "Average production rate 152.0\n",
            "Machine 3\n",
            "Total production  4539\n",
            "Average production rate 151.3\n",
            "Machine 4\n",
            "Total production  4243\n",
            "Average production rate 141.43333333333334\n",
            "Machine 5\n",
            "Total production  4637\n",
            "Average production rate 154.56666666666666\n",
            "Machiene with heighest production is Machine 5\n",
            "Machiene with lowest production is Machine 1\n",
            "overall production efficiency of the plant is  22181\n"
          ]
        }
      ]
    },
    {
      "cell_type": "markdown",
      "source": [
        "# Q3:\n",
        "\n",
        "**Statment**\n",
        "You are working on a project that involves simulating sensor data for a network of 10 sensors over a period of 15 days. Each sensor collects data once per hour. Your task is to generate a NumPy array named sensor_data to represent this simulated sensor data and perform following statistical analysis on it.\n",
        "\n",
        "Populate the sensor_data array with random floating-point values between 0.0 and 100.0\n",
        "The generated values should represent sensor readings collected once per hour.\n",
        "\n",
        "After generating the sensor_data array, perform the following statistical **calculations:**\n",
        "\n",
        "1.Calculate the mean (average) sensor reading for each sensor over the 15 days.\n",
        "\n",
        "2.Calculate the standard deviation of sensor readings for each sensor.\n",
        "\n",
        "3.Calculate the maximum sensor reading for each sensor.\n",
        "\n",
        "4.Calculate the minimum sensor reading for each sensor.\n",
        "\n",
        "5.Calculate the overall mean sensor reading for all sensors and all days.\n",
        "\n",
        "6.Calculate the overall standard deviation of sensor readings for all sensors an"
      ],
      "metadata": {
        "id": "Ayc9TG-vff7A"
      }
    },
    {
      "cell_type": "code",
      "source": [
        "import numpy as np\n",
        "\n",
        "# Data Generation Requirements\n",
        "num_sensors = 10\n",
        "num_days = 15\n",
        "hours_per_day = 24\n",
        "shape = (num_sensors, num_days * hours_per_day)\n",
        "a=[1,2,3,4,5]\n",
        "data=np.random.uniform(0.,100.,size=(10,15,24))\n",
        "# print(data)\n",
        "# 1.Calculate the mean (average) sensor reading for each sensor over the 15 days.\n",
        "avg_reading_persensor=np.mean(data,axis=(1,2))\n",
        "print(\"mean (average) sensor reading for each sensor is \",avg_reading_persensor)\n",
        "# 2.Calculate the standard deviation of sensor readings for each sensor.\n",
        "std_persensor=np.std(data,axis=(1,2))\n",
        "print(\"standard deviation of sensor readings for each sensor is \",std_persensor)\n",
        "# 3.Calculate the maximum sensor reading for each sensor.\n",
        "max_reading_persensor=np.max(data,axis=(1,2))\n",
        "print(max_reading_persensor)\n",
        "\n",
        "# 4.Calculate the minimum sensor reading for each sensor.\n",
        "min_reading_persensor=np.min(data,axis=(1,2))\n",
        "print(min_reading_persensor)\n",
        "\n",
        "# 5.Calculate the overall mean sensor reading for all sensors and all days.\n",
        "overall_mean_sensor_reading=np.mean(data)\n",
        "print(\"overall mean sensor reading for all sensors is \",overall_mean_sensor_reading)\n",
        "# 6.Calculate the overall standard deviation of sensor readings for all sensors\n",
        "overall_std_sensor_reading=np.std(data)\n",
        "print(\"overall standard deviation of sensor readings for all sensors is \",overall_std_sensor_reading)\n"
      ],
      "metadata": {
        "id": "TWSK9GA1gfz0",
        "colab": {
          "base_uri": "https://localhost:8080/"
        },
        "outputId": "249bf7ea-2932-4106-ca03-f4817242a55d"
      },
      "execution_count": 7,
      "outputs": [
        {
          "output_type": "stream",
          "name": "stdout",
          "text": [
            "mean (average) sensor reading for each sensor is  [51.02915794 47.88823702 49.69294246 47.97781024 51.70481826 50.70334534\n",
            " 49.47484942 51.88458575 51.32208724 47.91418129]\n",
            "standard deviation of sensor readings for each sensor is  [29.11998943 29.25812264 28.99058168 28.29015247 29.25947612 29.13267187\n",
            " 27.56402256 29.28753394 28.71384133 28.55440291]\n",
            "[99.71680642 99.51677622 99.69944623 99.2649066  99.6702917  99.94994523\n",
            " 99.19814745 99.85092396 99.71510907 99.77819952]\n",
            "[0.50511198 0.01789801 0.50640592 0.06184973 0.03925373 0.79918489\n",
            " 0.21854008 0.04030432 0.35833775 0.27666949]\n",
            "overall mean sensor reading for all sensors is  49.9592014957167\n",
            "overall standard deviation of sensor readings for all sensors is  28.861763432334765\n"
          ]
        }
      ]
    },
    {
      "cell_type": "markdown",
      "source": [
        "# Q4:\n",
        "\n",
        "**Statement**: You are tasked with analyzing the exam scores of 30 students in a class over a period of 10 exams. The exam scores are represented as a NumPy, where each row corresponds to a different student, and each column represents their score in a specific exam.\n",
        "\n",
        "Populate the exam_scores array with random integer values between 50 and 100 to simulate students' exam performance.\n",
        "\n",
        "After generating the exam_scores array, perform the following tasks:\n",
        "\n",
        "1.Calculate the average score for each student over the 10 exams.\n",
        "\n",
        "2.Calculate the standard deviation of scores for each student.\n",
        "\n",
        "3.Identify students who have consistently performed well, defined as those whose average score is above 85.\n",
        "\n",
        "4.Identify students who may need additional support, defined as those whose average score is below 50.\n",
        "\n",
        "Write code to create and populate the exam_scores array and then perform the specified statistical analysis and performance evaluation tasks on the data.\n",
        "\n",
        "\n",
        "\n"
      ],
      "metadata": {
        "id": "IShr0NSyhcEc"
      }
    },
    {
      "cell_type": "code",
      "source": [
        "import numpy as np\n",
        "\n",
        "# Create the exam_scores array (30 students, 10 exams)\n",
        "num_students = 30\n",
        "num_exams = 10\n",
        "# Populate the exam_scores array with random scores between 50 and 100\n",
        "exam_scores = np.random.randint(50, 101, size=(num_students, num_exams))\n",
        "# 1. Calculate the average score for each student over the 10 exams\n",
        "average_scores = np.mean(exam_scores, axis=1)\n",
        "# 2. Calculate the standard deviation of scores for each student\n",
        "std_deviation_scores = np.std(exam_scores, axis=1)\n",
        "# 3. Identify students who have consistently performed well (average score > 85)\n",
        "well_performing_students = np.where(average_scores > 85)[0]\n",
        "# 4. Identify students who may need additional support (average score < 60)\n",
        "students_needing_support = np.where(average_scores < 60)[0]\n",
        "\n",
        "# Print results\n",
        "print(\"Exam Scores:\", exam_scores)\n",
        "print(\"Average Scores:\", average_scores)\n",
        "print(\"Standard Deviation of Scores:\", std_deviation_scores)\n",
        "print(\"Well Performing Students\", well_performing_students)\n",
        "print(\"Students Needing Additional Support\", students_needing_support)\n"
      ],
      "metadata": {
        "id": "F3p_SMeoiT2o",
        "colab": {
          "base_uri": "https://localhost:8080/"
        },
        "outputId": "9306a2b6-5f05-4efb-855b-0efe59852961"
      },
      "execution_count": 9,
      "outputs": [
        {
          "output_type": "stream",
          "name": "stdout",
          "text": [
            "Exam Scores: [[ 92  98  99  76  70  66  77 100  55  95]\n",
            " [ 74  85  85  74  65  67  50  67  69  70]\n",
            " [ 65  87  53  89  92  91  70  58  64  65]\n",
            " [ 52  71  52  78  54  75  68  55  59  52]\n",
            " [ 83  88  70  93  72  77  97  53  82  64]\n",
            " [ 81  79  71  52  93  67  88  87  76  91]\n",
            " [ 73  77  92  83  66  56  66  90  68  57]\n",
            " [ 70  84  90  82  82  66  57  96  97  53]\n",
            " [ 90  98  61  57  84  73  50  53  64  57]\n",
            " [ 53  80  66  55  85  83  89  92  72  67]\n",
            " [ 65  91  92  86  91  75  63  74  50  80]\n",
            " [ 93  85  52  69  59  94  88  90  73  89]\n",
            " [ 96  87  81  71  60  78  97  71  54  70]\n",
            " [ 91  79  71  85  79 100  91  51  68  57]\n",
            " [ 59  57  91  94  78  81  95  55  94  67]\n",
            " [ 83  56  98  96  67  55  83  90  69  52]\n",
            " [ 81  62  71  87  73  85  91  70  93  58]\n",
            " [ 77  62  54  89  52  68  79  81  53  70]\n",
            " [ 60  61  99  73  81  50  96 100  60  60]\n",
            " [ 56  58  72  67  63  58  64  55  68  90]\n",
            " [ 96  80  64  71  58  81  92  66  53  58]\n",
            " [ 68  61  64  91  50  52  69  98  99  70]\n",
            " [ 85  61  54  63  74 100  76  89  64  84]\n",
            " [ 55  56  59  69  57  99  91  98  79  95]\n",
            " [ 94  54  76  98  97  55  98  71  98  56]\n",
            " [ 56  83  97  60  99  74  95  81  76  75]\n",
            " [ 89  91  76  86 100  66  89  99  93  68]\n",
            " [ 76  55  54  69  82  52  77  79  79  88]\n",
            " [ 64  62  69  65  88  63  54 100  56  98]\n",
            " [ 60  50  94  55  50  91  55  96  98  53]]\n",
            "Average Scores: [82.8 70.6 73.4 61.6 77.9 78.5 72.8 77.7 68.7 74.2 76.7 79.2 76.5 77.2\n",
            " 77.1 74.9 77.1 68.5 74.  65.1 71.9 72.2 75.  75.8 79.7 79.6 85.7 71.1\n",
            " 71.9 70.2]\n",
            "Standard Deviation of Scores: [15.23679756  9.60416576 14.06556078  9.81019877 12.84095012 11.9687092\n",
            " 11.97330364 14.73125928 15.86221926 13.05986217 13.37198564 14.22532952\n",
            " 13.47033778 14.78377489 15.56566735 16.4708834  11.48433716 12.35516086\n",
            " 17.79887637  9.8534258  14.05311353 16.9221748  13.80579588 17.74147683\n",
            " 18.52052915 13.91545903 11.31415043 12.28372908 16.12110418 20.28694161]\n",
            "Well Performing Students [26]\n",
            "Students Needing Additional Support []\n"
          ]
        }
      ]
    },
    {
      "cell_type": "code",
      "source": [],
      "metadata": {
        "id": "Tzfo6eGfAW-l"
      },
      "execution_count": null,
      "outputs": []
    }
  ]
}