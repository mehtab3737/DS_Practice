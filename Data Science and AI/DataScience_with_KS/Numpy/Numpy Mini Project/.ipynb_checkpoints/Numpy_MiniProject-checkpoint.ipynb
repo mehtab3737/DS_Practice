{
 "cells": [
  {
   "cell_type": "code",
   "execution_count": 1,
   "metadata": {
    "id": "QOepuiVEQmVL"
   },
   "outputs": [],
   "source": [
    "#import the required libraries\n",
    "import numpy as np \n",
    "import pandas as pd"
   ]
  },
  {
   "cell_type": "markdown",
   "metadata": {
    "id": "XJJVjthYIz6w"
   },
   "source": [
    "# Step 1 : Read the Data!"
   ]
  },
  {
   "cell_type": "code",
   "execution_count": 3,
   "metadata": {
    "id": "7xcB2zo-O0t-"
   },
   "outputs": [],
   "source": [
    "#give path of the source-file and store that path in a variable named census\n",
    "census=\"makeSenseOfCensus.csv\""
   ]
  },
  {
   "cell_type": "markdown",
   "metadata": {
    "id": "OiSJcx6GLcWT"
   },
   "source": [
    "# Loading the data"
   ]
  },
  {
   "cell_type": "markdown",
   "metadata": {
    "id": "VxJZY3U1nsPN"
   },
   "source": [
    "You have studied getfromtext in Numpy Classes, now is the time to put it into action :) Below is the half completed code, you have to substitute values for delimiter and skip_header in it for hte data to be properly read into a Data array. The output of the array has been shared with you guys followed by the code block"
   ]
  },
  {
   "cell_type": "code",
   "execution_count": 6,
   "metadata": {
    "colab": {
     "base_uri": "https://localhost:8080/"
    },
    "id": "Fjx-kQkxQD7q",
    "outputId": "6b33c0b4-ce04-4e6c-cb47-3ee203f4322f",
    "scrolled": true
   },
   "outputs": [
    {
     "name": "stdout",
     "output_type": "stream",
     "text": [
      "\n",
      "Data:\n",
      "\n",
      "  [[39. 13.  4. ...  0. 40.  0.]\n",
      " [50. 13.  4. ...  0. 13.  0.]\n",
      " [38.  9.  4. ...  0. 40.  0.]\n",
      " ...\n",
      " [48. 13.  4. ...  0. 58.  1.]\n",
      " [40. 10.  4. ...  0. 40.  0.]\n",
      " [39. 13.  4. ...  0. 50.  1.]]\n"
     ]
    }
   ],
   "source": [
    "data = np.genfromtxt(census, delimiter =\",\" , skip_header =1 )\n",
    "print(\"\\nData:\\n\\n \", data)"
   ]
  },
  {
   "cell_type": "markdown",
   "metadata": {
    "id": "lLoQJxpdOCfA"
   },
   "source": [
    "# Printing the type of data"
   ]
  },
  {
   "cell_type": "code",
   "execution_count": 8,
   "metadata": {
    "colab": {
     "base_uri": "https://localhost:8080/"
    },
    "id": "xkPasCIhQ1qC",
    "outputId": "5c15ee56-e668-4338-d532-ceb6487adcf0"
   },
   "outputs": [
    {
     "name": "stdout",
     "output_type": "stream",
     "text": [
      "<class 'numpy.ndarray'>\n"
     ]
    }
   ],
   "source": [
    "#print the type of data\n",
    "print(type(data))"
   ]
  },
  {
   "cell_type": "markdown",
   "metadata": {
    "id": "QTSTCc7jVppG"
   },
   "source": [
    "# Step 2 : Append the Data"
   ]
  },
  {
   "cell_type": "markdown",
   "metadata": {
    "id": "-gz1eP4sfRpc"
   },
   "source": [
    "A new record [[50,9,4,1,0,0,40,0]] has been given to you. You are supposed to append this new record into the data using np.concatenate()"
   ]
  },
  {
   "cell_type": "markdown",
   "metadata": {
    "id": "qVKX1_leVwqh"
   },
   "source": [
    "## Append 'new_record' (given) to 'data' using \"np.concatenate()\""
   ]
  },
  {
   "cell_type": "code",
   "execution_count": 12,
   "metadata": {
    "id": "V38I3c5rTJPQ"
   },
   "outputs": [],
   "source": [
    "new_record = [[50,9,4,1,0,0,40,0]]\n",
    "new_data=np.concatenate((data,new_record))\n"
   ]
  },
  {
   "cell_type": "code",
   "execution_count": 13,
   "metadata": {
    "colab": {
     "base_uri": "https://localhost:8080/"
    },
    "id": "QOWjaWI3TlP4",
    "outputId": "b87c4b40-64ac-4310-db00-99b1eaad2195"
   },
   "outputs": [
    {
     "data": {
      "text/plain": [
       "array([50.,  9.,  4.,  1.,  0.,  0., 40.,  0.])"
      ]
     },
     "execution_count": 13,
     "metadata": {},
     "output_type": "execute_result"
    }
   ],
   "source": [
    "#display after appending the new record at the end of the array.\n",
    "new_data[-1]"
   ]
  },
  {
   "cell_type": "markdown",
   "metadata": {
    "id": "i_5WAJWYWHpL"
   },
   "source": [
    "# Step 3 : Check if it's a young country or old country"
   ]
  },
  {
   "cell_type": "markdown",
   "metadata": {
    "id": "_CqLiA9OWQPm"
   },
   "source": [
    " Create a new array called 'age' by taking only age column(age is the column with index 0) of 'census' array."
   ]
  },
  {
   "cell_type": "code",
   "execution_count": 16,
   "metadata": {
    "id": "u-v0CJlJf8XA"
   },
   "outputs": [],
   "source": [
    "age=data[:,0]"
   ]
  },
  {
   "cell_type": "markdown",
   "metadata": {
    "id": "_IyNXVKqWpPS"
   },
   "source": [
    "Find the max age and store it in a variable called 'max_age'.\n",
    "\n"
   ]
  },
  {
   "cell_type": "code",
   "execution_count": 18,
   "metadata": {
    "id": "tczhOTFif33u"
   },
   "outputs": [
    {
     "name": "stdout",
     "output_type": "stream",
     "text": [
      "Maximum age is  90.0 years\n"
     ]
    }
   ],
   "source": [
    "#print the max_age\n",
    "# max_age=np.max(age,axis=0)/\n",
    "max_age=age.max()\n",
    "print(\"Maximum age is \",max_age,\"years\")"
   ]
  },
  {
   "cell_type": "markdown",
   "metadata": {
    "id": "ywrTp3KTWu9z"
   },
   "source": [
    "Find the min age and store it in a variable called 'min_age'."
   ]
  },
  {
   "cell_type": "markdown",
   "metadata": {
    "id": "ywrTp3KTWu9z"
   },
   "source": [
    "Find the min age and store it in a variable called 'min_age'."
   ]
  },
  {
   "cell_type": "code",
   "execution_count": 21,
   "metadata": {
    "id": "QJ1VfCH7f0RG"
   },
   "outputs": [
    {
     "name": "stdout",
     "output_type": "stream",
     "text": [
      "Minimum age is  17.0 years\n"
     ]
    }
   ],
   "source": [
    "#print the min_age\n",
    "min_age=np.min(age)\n",
    "print(\"Minimum age is \",min_age,\"years\")"
   ]
  },
  {
   "cell_type": "markdown",
   "metadata": {
    "id": "k6TqZMYQd8w1"
   },
   "source": [
    "Find the mean of the age and store it in a variable called 'age_mean'."
   ]
  },
  {
   "cell_type": "code",
   "execution_count": 23,
   "metadata": {
    "colab": {
     "base_uri": "https://localhost:8080/"
    },
    "id": "7dTC5eaIXs__",
    "outputId": "b23fff73-3d1f-4262-e556-9b755e1188af"
   },
   "outputs": [
    {
     "name": "stdout",
     "output_type": "stream",
     "text": [
      "Average age is 38.051 year\n"
     ]
    }
   ],
   "source": [
    "#print the age_mean\n",
    "age_mean=np.mean(age)\n",
    "print(\"Average age is\",age_mean,\"year\")"
   ]
  },
  {
   "cell_type": "markdown",
   "metadata": {
    "id": "GEDv3kfSeF9p"
   },
   "source": [
    "Find the standard deviation of the age and store it in a variable called 'age_std'"
   ]
  },
  {
   "cell_type": "code",
   "execution_count": 25,
   "metadata": {
    "colab": {
     "base_uri": "https://localhost:8080/"
    },
    "id": "SF33E4XbX8Yi",
    "outputId": "5312cffe-2ef8-499c-e65a-93ee94c6b176"
   },
   "outputs": [
    {
     "name": "stdout",
     "output_type": "stream",
     "text": [
      "Standard deviation of age is  13.342803266180612\n"
     ]
    }
   ],
   "source": [
    "#print the age_std\n",
    "age_std=np.std(age)\n",
    "print(\"Standard deviation of age is \",age_std)"
   ]
  },
  {
   "cell_type": "markdown",
   "metadata": {
    "id": "zfJWcybQecKB"
   },
   "source": [
    "# Step 4: Let's check the country's race distribution to identify the minorities"
   ]
  },
  {
   "cell_type": "markdown",
   "metadata": {
    "id": "SrvNIFGvef4r"
   },
   "source": [
    "Create four different arrays by subsetting 'census' array by Race column(Race is the column with index 2) and save them in 'race_0','race_1', 'race_2', 'race_3' and 'race_4' respectively(Meaning: Store the array where 'race'column has value 0 in 'race_0', so on and so forth)"
   ]
  },
  {
   "cell_type": "code",
   "execution_count": 28,
   "metadata": {
    "colab": {
     "base_uri": "https://localhost:8080/"
    },
    "id": "2iaIx6n6YHPh",
    "outputId": "a540ec02-058f-4e3b-d050-087deff6de4a"
   },
   "outputs": [],
   "source": [
    "race=data[:,2]\n",
    "race_0=race[(race==0)]\n",
    "race_1=race[(race==1)]\n",
    "race_2=race[(race==2)]\n",
    "race_3=race[(race==3)]\n",
    "race_4=race[(race==4)]"
   ]
  },
  {
   "cell_type": "markdown",
   "metadata": {
    "id": "thg4wOEQeo1x"
   },
   "source": [
    "Store the length of the above created arrays in 'len_0', 'len_1','len_2', 'len_3' and 'len_4' respectively"
   ]
  },
  {
   "cell_type": "code",
   "execution_count": 30,
   "metadata": {
    "id": "6Nbz3CBkZHLY",
    "scrolled": true
   },
   "outputs": [
    {
     "data": {
      "text/plain": [
       "10"
      ]
     },
     "execution_count": 30,
     "metadata": {},
     "output_type": "execute_result"
    }
   ],
   "source": [
    "#len_0\n",
    "Len_0=len(race_0)\n",
    "Len_0"
   ]
  },
  {
   "cell_type": "code",
   "execution_count": 31,
   "metadata": {
    "id": "Zm0CnpfHaWQ7"
   },
   "outputs": [
    {
     "data": {
      "text/plain": [
       "27"
      ]
     },
     "execution_count": 31,
     "metadata": {},
     "output_type": "execute_result"
    }
   ],
   "source": [
    "#len_1\n",
    "Len_1=len(race_1)\n",
    "Len_1"
   ]
  },
  {
   "cell_type": "code",
   "execution_count": 32,
   "metadata": {
    "id": "BmTApcJTab3j"
   },
   "outputs": [
    {
     "data": {
      "text/plain": [
       "110"
      ]
     },
     "execution_count": 32,
     "metadata": {},
     "output_type": "execute_result"
    }
   ],
   "source": [
    "#len_2\n",
    "Len_2=len(race_2)\n",
    "Len_2"
   ]
  },
  {
   "cell_type": "code",
   "execution_count": 33,
   "metadata": {
    "id": "O-SEHnv9afoQ"
   },
   "outputs": [
    {
     "data": {
      "text/plain": [
       "6"
      ]
     },
     "execution_count": 33,
     "metadata": {},
     "output_type": "execute_result"
    }
   ],
   "source": [
    "#len_3\n",
    "Len_3=len(race_3)\n",
    "Len_3"
   ]
  },
  {
   "cell_type": "code",
   "execution_count": 34,
   "metadata": {
    "id": "HksygZJFaogo"
   },
   "outputs": [
    {
     "data": {
      "text/plain": [
       "847"
      ]
     },
     "execution_count": 34,
     "metadata": {},
     "output_type": "execute_result"
    }
   ],
   "source": [
    "#len_4\n",
    "Len_4=len(race_4)\n",
    "Len_4"
   ]
  },
  {
   "cell_type": "markdown",
   "metadata": {
    "id": "p57jTibJezYj"
   },
   "source": [
    "Find out which is the race with the minimum no. of citizens"
   ]
  },
  {
   "cell_type": "code",
   "execution_count": 36,
   "metadata": {
    "id": "axqxJHRBdMQL"
   },
   "outputs": [
    {
     "name": "stdout",
     "output_type": "stream",
     "text": [
      "Race with minimum citizen is race 3.0\n"
     ]
    }
   ],
   "source": [
    "race1,count=np.unique(race,return_counts=True)\n",
    "min_count=np.argmin(count)\n",
    "print(\"Race with minimum citizen is race\",race1[min_count])"
   ]
  },
  {
   "cell_type": "markdown",
   "metadata": {
    "id": "yJVgGJLgfJcV"
   },
   "source": [
    "Find out which is the race with the minimum no. of citizens"
   ]
  },
  {
   "cell_type": "code",
   "execution_count": 38,
   "metadata": {
    "id": "LnvFjvidgdzb"
   },
   "outputs": [
    {
     "name": "stdout",
     "output_type": "stream",
     "text": [
      "Race with maximum citizen is race 4.0\n"
     ]
    }
   ],
   "source": [
    "race2,count=np.unique(race,return_counts=True)\n",
    "max_count=np.argmax(count)\n",
    "print(\"Race with maximum citizen is race\",race2[max_count])"
   ]
  },
  {
   "cell_type": "markdown",
   "metadata": {
    "id": "OJmzGHoZfSHv"
   },
   "source": [
    "Store the number associated with the minority race in a variable called 'minority_race'(For eg: if \"len(race_5)\" is the minimum, store 5 in 'minority_race' because that is the index of the race having the least no. of citizens )"
   ]
  },
  {
   "cell_type": "code",
   "execution_count": 52,
   "metadata": {
    "id": "xi96yzv9gmar"
   },
   "outputs": [
    {
     "data": {
      "text/plain": [
       "6"
      ]
     },
     "execution_count": 52,
     "metadata": {},
     "output_type": "execute_result"
    }
   ],
   "source": [
    "lenarr=[Len_0,Len_1,Len_2,Len_3,Len_4]\n",
    "minority_race=np.min(lenarr)\n",
    "minority_race"
   ]
  },
  {
   "cell_type": "markdown",
   "metadata": {
    "id": "jrg7qCPZhwnu"
   },
   "source": [
    "Store the number associated with the minority race in a variable called 'minority_race'(For eg: if \"len(race_5)\" is the minimum, store 5 in 'minority_race' because that is the index of the race having the least no. of citizens )"
   ]
  },
  {
   "cell_type": "code",
   "execution_count": 54,
   "metadata": {
    "id": "A3IPB6qMgocF"
   },
   "outputs": [
    {
     "data": {
      "text/plain": [
       "847"
      ]
     },
     "execution_count": 54,
     "metadata": {},
     "output_type": "execute_result"
    }
   ],
   "source": [
    "lenarr=[Len_0,Len_1,Len_2,Len_3,Len_4]\n",
    "majority_race=np.max(lenarr)\n",
    "majority_race"
   ]
  },
  {
   "cell_type": "markdown",
   "metadata": {
    "id": "E1Rwgqxf9F9V"
   },
   "source": [
    "# Step 5: As per govt. records citizens above 60 should not work more than 25 hours a week. Let us check if the policy is in place"
   ]
  },
  {
   "cell_type": "markdown",
   "metadata": {
    "id": "XT4Jy_Wn9Vww"
   },
   "source": [
    "a.Create a new subset array called 'senior_citizens' by filtering 'census' according to age>60 (age is the column with index 0)"
   ]
  },
  {
   "cell_type": "markdown",
   "metadata": {
    "id": "6AEHuxcS-uGh"
   },
   "source": [
    "[Row,Columns]  :"
   ]
  },
  {
   "cell_type": "code",
   "execution_count": 64,
   "metadata": {
    "colab": {
     "base_uri": "https://localhost:8080/"
    },
    "id": "oX6E5VZv9Z4j",
    "outputId": "cc545ce0-84fe-4e14-a8b5-9ce2beb20729"
   },
   "outputs": [
    {
     "data": {
      "text/plain": [
       "array([[7.900e+01, 1.000e+01, 4.000e+00, 1.000e+00, 0.000e+00, 0.000e+00,\n",
       "        2.000e+01, 0.000e+00],\n",
       "       [6.700e+01, 6.000e+00, 4.000e+00, 1.000e+00, 0.000e+00, 0.000e+00,\n",
       "        2.000e+00, 0.000e+00],\n",
       "       [7.100e+01, 1.000e+01, 2.000e+00, 1.000e+00, 0.000e+00, 1.816e+03,\n",
       "        2.000e+00, 0.000e+00],\n",
       "       [6.800e+01, 2.000e+00, 4.000e+00, 0.000e+00, 0.000e+00, 0.000e+00,\n",
       "        2.000e+01, 0.000e+00],\n",
       "       [6.600e+01, 1.100e+01, 4.000e+00, 0.000e+00, 0.000e+00, 0.000e+00,\n",
       "        2.000e+01, 0.000e+00],\n",
       "       [7.500e+01, 1.100e+01, 4.000e+00, 0.000e+00, 0.000e+00, 0.000e+00,\n",
       "        2.000e+01, 0.000e+00],\n",
       "       [6.500e+01, 9.000e+00, 4.000e+00, 1.000e+00, 0.000e+00, 0.000e+00,\n",
       "        1.600e+01, 0.000e+00],\n",
       "       [6.200e+01, 9.000e+00, 4.000e+00, 0.000e+00, 0.000e+00, 0.000e+00,\n",
       "        2.400e+01, 0.000e+00],\n",
       "       [7.600e+01, 1.400e+01, 4.000e+00, 1.000e+00, 0.000e+00, 0.000e+00,\n",
       "        1.000e+01, 0.000e+00],\n",
       "       [6.700e+01, 7.000e+00, 4.000e+00, 1.000e+00, 0.000e+00, 0.000e+00,\n",
       "        8.000e+00, 0.000e+00],\n",
       "       [8.000e+01, 9.000e+00, 4.000e+00, 1.000e+00, 0.000e+00, 0.000e+00,\n",
       "        2.400e+01, 0.000e+00],\n",
       "       [6.700e+01, 1.100e+01, 4.000e+00, 0.000e+00, 0.000e+00, 0.000e+00,\n",
       "        2.400e+01, 0.000e+00],\n",
       "       [7.200e+01, 9.000e+00, 4.000e+00, 1.000e+00, 0.000e+00, 0.000e+00,\n",
       "        2.000e+01, 0.000e+00],\n",
       "       [7.400e+01, 1.000e+01, 4.000e+00, 0.000e+00, 0.000e+00, 0.000e+00,\n",
       "        9.000e+00, 0.000e+00],\n",
       "       [6.500e+01, 5.000e+00, 2.000e+00, 0.000e+00, 0.000e+00, 0.000e+00,\n",
       "        2.400e+01, 0.000e+00],\n",
       "       [7.100e+01, 9.000e+00, 4.000e+00, 1.000e+00, 0.000e+00, 0.000e+00,\n",
       "        1.500e+01, 0.000e+00],\n",
       "       [7.000e+01, 5.000e+00, 4.000e+00, 0.000e+00, 1.111e+03, 0.000e+00,\n",
       "        1.500e+01, 0.000e+00],\n",
       "       [6.600e+01, 4.000e+00, 4.000e+00, 1.000e+00, 0.000e+00, 0.000e+00,\n",
       "        4.000e+00, 0.000e+00],\n",
       "       [6.800e+01, 7.000e+00, 4.000e+00, 1.000e+00, 0.000e+00, 0.000e+00,\n",
       "        2.000e+01, 0.000e+00],\n",
       "       [7.200e+01, 7.000e+00, 4.000e+00, 0.000e+00, 0.000e+00, 0.000e+00,\n",
       "        2.400e+01, 0.000e+00],\n",
       "       [6.300e+01, 9.000e+00, 4.000e+00, 1.000e+00, 0.000e+00, 0.000e+00,\n",
       "        6.000e+00, 0.000e+00],\n",
       "       [6.300e+01, 1.000e+01, 4.000e+00, 1.000e+00, 0.000e+00, 0.000e+00,\n",
       "        1.500e+01, 0.000e+00],\n",
       "       [6.400e+01, 9.000e+00, 4.000e+00, 1.000e+00, 0.000e+00, 0.000e+00,\n",
       "        5.000e+00, 0.000e+00],\n",
       "       [6.300e+01, 1.100e+01, 4.000e+00, 0.000e+00, 0.000e+00, 0.000e+00,\n",
       "        2.000e+01, 0.000e+00]])"
      ]
     },
     "execution_count": 64,
     "metadata": {},
     "output_type": "execute_result"
    }
   ],
   "source": [
    "#from age column, filter out age data > 60\n",
    "senior_citizens=data[(data[:,0]>60) & (data[:,-2]<25)]\n",
    "senior_citizens"
   ]
  },
  {
   "cell_type": "markdown",
   "metadata": {
    "id": "mDbsg8N0_K8b"
   },
   "source": [
    "b.Add all the working hours(working hours is the column with index 6) of 'senior_citizens' and store it in a variable called 'working_hours_sum'"
   ]
  },
  {
   "cell_type": "code",
   "execution_count": 70,
   "metadata": {
    "id": "fYZTR7EMgupn"
   },
   "outputs": [
    {
     "data": {
      "text/plain": [
       "367.0"
      ]
     },
     "execution_count": 70,
     "metadata": {},
     "output_type": "execute_result"
    }
   ],
   "source": [
    "working_hours_sum=senior_citizens[:,6].sum()\n",
    "working_hours_sum"
   ]
  },
  {
   "cell_type": "markdown",
   "metadata": {
    "id": "l4h6_8DfBD9x"
   },
   "source": [
    "c.Find the length of 'senior_citizens' and store it in a variable called 'senior_citizens_len'"
   ]
  },
  {
   "cell_type": "code",
   "execution_count": 74,
   "metadata": {
    "id": "pPExiV83gwaC"
   },
   "outputs": [
    {
     "data": {
      "text/plain": [
       "24"
      ]
     },
     "execution_count": 74,
     "metadata": {},
     "output_type": "execute_result"
    }
   ],
   "source": [
    "senior_citizens_len=len(senior_citizens)\n",
    "senior_citizens_len"
   ]
  },
  {
   "cell_type": "markdown",
   "metadata": {
    "id": "-6mWgLiXBgAW"
   },
   "source": [
    "d. Finally find the average working hours of the senior citizens by dividing 'working_hours_sum' by 'senior_citizens_len' and store it in a variable called 'avg_working hours'."
   ]
  },
  {
   "cell_type": "code",
   "execution_count": 76,
   "metadata": {
    "id": "AOwajHabgy29"
   },
   "outputs": [
    {
     "data": {
      "text/plain": [
       "15.291666666666666"
      ]
     },
     "execution_count": 76,
     "metadata": {},
     "output_type": "execute_result"
    }
   ],
   "source": [
    "avg_working_hours=working_hours_sum/senior_citizens_len\n",
    "avg_working_hours"
   ]
  },
  {
   "cell_type": "markdown",
   "metadata": {
    "id": "VS382pv_CY1Q"
   },
   "source": [
    "e. Print 'avg_working_hours' and see if the govt. policy is followed."
   ]
  },
  {
   "cell_type": "code",
   "execution_count": 82,
   "metadata": {
    "id": "NatAJ4JBgzr4"
   },
   "outputs": [
    {
     "name": "stdout",
     "output_type": "stream",
     "text": [
      "Average working hours are 15.291666666666666\n",
      "Policy followed\n"
     ]
    }
   ],
   "source": [
    "print(\"Average working hours are\",avg_working_hours)\n",
    "if avg_working_hours>25:\n",
    "    print(\"Policy Not followed\")\n",
    "else:\n",
    "    print(\"Policy followed\")"
   ]
  },
  {
   "cell_type": "markdown",
   "metadata": {
    "id": "KRGhpDBKEIa-"
   },
   "source": [
    "# Step 6: Let's check that higher educated people have better pay in general."
   ]
  },
  {
   "cell_type": "markdown",
   "metadata": {
    "id": "-5rc9FarELwP"
   },
   "source": [
    "Create two new subset arrays called 'high' and 'low' by filtering 'census' according to education-num>10 and education-num<=10 (education-num is the column with index 1) respectively.\n",
    "\n"
   ]
  },
  {
   "cell_type": "code",
   "execution_count": 108,
   "metadata": {
    "id": "GVA3Dgp5g2Ui"
   },
   "outputs": [
    {
     "data": {
      "text/plain": [
       "array([[39., 13.,  4., ...,  0., 40.,  0.],\n",
       "       [50., 13.,  4., ...,  0., 13.,  0.],\n",
       "       [28., 13.,  2., ...,  0., 40.,  0.],\n",
       "       ...,\n",
       "       [45., 14.,  4., ...,  0., 45.,  0.],\n",
       "       [48., 13.,  4., ...,  0., 58.,  1.],\n",
       "       [39., 13.,  4., ...,  0., 50.,  1.]])"
      ]
     },
     "execution_count": 108,
     "metadata": {},
     "output_type": "execute_result"
    }
   ],
   "source": [
    "\n",
    "\n",
    "\n",
    "high=data[(data[:,1]>10)]\n",
    "low=data[data[:,1]<10]"
   ]
  },
  {
   "cell_type": "markdown",
   "metadata": {
    "id": "I4MwXFEbFEjV"
   },
   "source": [
    "Find the mean of income column(income is the column with index 7) of 'high' array and store it in 'avg_pay_high'. Do the same for 'low' array and store it's mean in 'avg_pay_low'."
   ]
  },
  {
   "cell_type": "code",
   "execution_count": 112,
   "metadata": {
    "colab": {
     "base_uri": "https://localhost:8080/"
    },
    "id": "aaHfrQd1FItV",
    "outputId": "8647ea5d-9b2f-4c74-e81c-2405c907f309"
   },
   "outputs": [],
   "source": [
    "avg_pay_high=np.mean(high[7])\n",
    "avg_pay_low=np.mean(low[7])"
   ]
  },
  {
   "cell_type": "code",
   "execution_count": 114,
   "metadata": {
    "colab": {
     "base_uri": "https://localhost:8080/"
    },
    "id": "W4pJ8mhvHjlL",
    "outputId": "717875ad-efee-4549-ecc4-f883c94f561b"
   },
   "outputs": [
    {
     "data": {
      "text/plain": [
       "8.75"
      ]
     },
     "execution_count": 114,
     "metadata": {},
     "output_type": "execute_result"
    }
   ],
   "source": [
    "avg_pay_high"
   ]
  },
  {
   "cell_type": "code",
   "execution_count": 116,
   "metadata": {},
   "outputs": [
    {
     "data": {
      "text/plain": [
       "12.5"
      ]
     },
     "execution_count": 116,
     "metadata": {},
     "output_type": "execute_result"
    }
   ],
   "source": [
    "avg_pay_low"
   ]
  },
  {
   "cell_type": "code",
   "execution_count": null,
   "metadata": {},
   "outputs": [],
   "source": []
  },
  {
   "cell_type": "code",
   "execution_count": null,
   "metadata": {},
   "outputs": [],
   "source": []
  },
  {
   "cell_type": "code",
   "execution_count": null,
   "metadata": {},
   "outputs": [],
   "source": [
    "    "
   ]
  }
 ],
 "metadata": {
  "colab": {
   "provenance": []
  },
  "kernelspec": {
   "display_name": "Python 3 (ipykernel)",
   "language": "python",
   "name": "python3"
  },
  "language_info": {
   "codemirror_mode": {
    "name": "ipython",
    "version": 3
   },
   "file_extension": ".py",
   "mimetype": "text/x-python",
   "name": "python",
   "nbconvert_exporter": "python",
   "pygments_lexer": "ipython3",
   "version": "3.12.4"
  }
 },
 "nbformat": 4,
 "nbformat_minor": 4
}
