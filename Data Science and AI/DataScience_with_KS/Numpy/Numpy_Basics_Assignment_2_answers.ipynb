{
 "cells": [
  {
   "cell_type": "markdown",
   "metadata": {
    "id": "YmwKgUrAkbfG"
   },
   "source": [
    "# Numpy Basics Exercises\n",
    "\n",
    "Please complete the following exercises **using numpy only**."
   ]
  },
  {
   "cell_type": "markdown",
   "metadata": {
    "id": "vpo3azRubEMA"
   },
   "source": [
    "# Array Functions\n",
    "1.Arange([start,] stop[, step],dtype=None)\n",
    "Nearly identical to Python’s range(). Creates an array of values in the range [start,stop) with the specified step value. Allows non-integer values for start, stop, and step. Default dtype is derived from the start, stop, and step values. create an array with arange."
   ]
  },
  {
   "cell_type": "code",
   "execution_count": 21,
   "metadata": {
    "colab": {
     "base_uri": "https://localhost:8080/"
    },
    "id": "31t0LaJ3bEMB",
    "outputId": "27654746-c501-4683-9215-902abb5f41bf"
   },
   "outputs": [
    {
     "name": "stdout",
     "output_type": "stream",
     "text": [
      "[10.  13.5 17.  20.5 24.  27.5]\n",
      "float64\n"
     ]
    }
   ],
   "source": [
    "import numpy as np\n",
    "arr=np.arange(10.0,30.0,3.5)\n",
    "print(arr)\n",
    "print(arr.dtype)\n",
    "\n"
   ]
  },
  {
   "cell_type": "markdown",
   "metadata": {
    "id": "MfAFU0VibEMD"
   },
   "source": [
    "2.Create arrays with ONES, ZEROS, shape is a number or sequence specifying the dimensions of the array. If dtype is not specified, it defaults to float64."
   ]
  },
  {
   "cell_type": "code",
   "execution_count": 6,
   "metadata": {
    "colab": {
     "base_uri": "https://localhost:8080/"
    },
    "id": "8ebuyMSkbEMD",
    "outputId": "63a9f319-5581-4684-c2d4-7261806aa798"
   },
   "outputs": [
    {
     "name": "stdout",
     "output_type": "stream",
     "text": [
      "[[1. 1. 1. 1.]\n",
      " [1. 1. 1. 1.]\n",
      " [1. 1. 1. 1.]\n",
      " [1. 1. 1. 1.]\n",
      " [1. 1. 1. 1.]]\n",
      "[[0. 0. 0.]\n",
      " [0. 0. 0.]]\n"
     ]
    }
   ],
   "source": [
    "arr1=np.ones((5,4),dtype=float)\n",
    "print(arr1)\n",
    "arr2=np.zeros((2,3),dtype=float)\n",
    "print(arr2)"
   ]
  },
  {
   "cell_type": "markdown",
   "metadata": {
    "id": "2EiFTfIibEMD"
   },
   "source": [
    "3.Generate an n by n identity array. The default dtype is float64."
   ]
  },
  {
   "cell_type": "code",
   "execution_count": 7,
   "metadata": {
    "colab": {
     "base_uri": "https://localhost:8080/"
    },
    "id": "W328-ggzbEMD",
    "outputId": "5a10af9f-9ef0-4fc4-abf1-69cee132c069"
   },
   "outputs": [
    {
     "name": "stdout",
     "output_type": "stream",
     "text": [
      "[[1. 0. 0. 0. 0.]\n",
      " [0. 1. 0. 0. 0.]\n",
      " [0. 0. 1. 0. 0.]\n",
      " [0. 0. 0. 1. 0.]\n",
      " [0. 0. 0. 0. 1.]]\n"
     ]
    }
   ],
   "source": [
    "arr1=np.identity(5,dtype=float)\n",
    "print(arr1)"
   ]
  },
  {
   "cell_type": "markdown",
   "metadata": {
    "id": "VpIlaZHJbEME"
   },
   "source": [
    "4.use empty, full, and fill, max, min, std, mean, var, argmax, linspace"
   ]
  },
  {
   "cell_type": "code",
   "execution_count": 31,
   "metadata": {
    "colab": {
     "base_uri": "https://localhost:8080/"
    },
    "id": "ze1PCT8xbEME",
    "outputId": "bdf073a8-7e58-47b8-f7d1-2cdf7406b9bf"
   },
   "outputs": [
    {
     "name": "stdout",
     "output_type": "stream",
     "text": [
      "[[1. 1. 1. 1.]\n",
      " [1. 1. 1. 1.]\n",
      " [1. 1. 1. 1.]\n",
      " [1. 1. 1. 1.]\n",
      " [1. 1. 1. 1.]]\n",
      "[[5. 5. 5. 5.]\n",
      " [5. 5. 5. 5.]\n",
      " [5. 5. 5. 5.]]\n",
      "None\n",
      "5.0\n",
      "0.0\n",
      "5.0\n",
      "0.0\n",
      "0\n",
      "[1.         1.77777778 2.55555556 3.33333333 4.11111111 4.88888889\n",
      " 5.66666667 6.44444444 7.22222222 8.        ]\n"
     ]
    }
   ],
   "source": [
    "print(np.empty((5,4),dtype=float))\n",
    "print(np.full((3,4),5.0))\n",
    "print(arr.fill(5.0))\n",
    "print(np.max(arr))\n",
    "print(np.std(arr))\n",
    "print(np.mean(arr))\n",
    "print(np.var(arr))\n",
    "print(np.argmax(arr))\n",
    "print(np.linspace(1,8,10))"
   ]
  },
  {
   "cell_type": "markdown",
   "metadata": {
    "id": "N8D2KaVEbEME"
   },
   "source": [
    "\n",
    "5. Create the array below with a = np.arange(-15, 15).reshape(5, 6) ** 2\n",
    "\n",
    "  Rule 1:\n",
    "  Operations between multiple array objects are first checked for proper shape match.\n",
    "\n",
    "  Rule 2:\n",
    "  Mathematical operators (+ - * / exp, log, ...) apply element by element, on the values.\n",
    "\n",
    "  Rule 3:\n",
    "  Reduction operations (mean, std, skew, kurt, sum, prod, ...) apply to the whole array, unless an axis is specified.\n",
    "\n",
    "  Rule 4:\n",
    "  Missing values propagate unless explicitly ignored (nanmean, nansum, ...)."
   ]
  },
  {
   "cell_type": "code",
   "execution_count": 50,
   "metadata": {
    "colab": {
     "base_uri": "https://localhost:8080/"
    },
    "id": "SfR3QRNXbEME",
    "outputId": "9c7f2432-545d-4397-d7c0-8060d19accb3"
   },
   "outputs": [
    {
     "name": "stdout",
     "output_type": "stream",
     "text": [
      "2255\n",
      "2255\n",
      "0\n",
      "[78.87204828 69.1433294  62.58434309 60.23952191 62.58434309 69.1433294 ]\n",
      "[81. 76. 73. 72. 73. 76.]\n",
      "[0.91287093 0.69630113 0.40604029 0.25612042 0.40604029 0.69630113]\n",
      "[-0.5        -0.83386558 -1.39965398 -1.7244898  -1.39965398 -0.83386558]\n"
     ]
    }
   ],
   "source": [
    "# code here and try to figure out different functions on your own (as stated in Rule 3, also figure out how to propogate missing values as stated in Rule 4)\n",
    "from scipy.stats import kurtosis, skew\n",
    "a = np.arange(-15, 15).reshape(5, 6) ** 2\n",
    "print(np.sum(a))\n",
    "print(a.sum())\n",
    "print(a.prod())\n",
    "print(np.std(a,axis=0))\n",
    "print(np.mean(a,axis=0))\n",
    "print(skew(a))\n",
    "print(kurtosis(a))\n"
   ]
  },
  {
   "cell_type": "markdown",
   "metadata": {
    "id": "ir_VH1IjbEMF"
   },
   "source": [
    "6.Create the array below with\n",
    "                  a = np.arange(-15, 15).reshape(5, 6) ** 2\n",
    "1. The maximum of each row\n",
    "2. The mean of each column\n",
    "3. The position of the overall minimum"
   ]
  },
  {
   "cell_type": "code",
   "execution_count": 67,
   "metadata": {
    "colab": {
     "base_uri": "https://localhost:8080/"
    },
    "id": "XcuNU8TcbEMF",
    "outputId": "e952c451-d42e-4dee-bfb5-2954d39f110f"
   },
   "outputs": [
    {
     "name": "stdout",
     "output_type": "stream",
     "text": [
      "[225, 81, 9, 64, 196]\n",
      "[81.0, 76.0, 73.0, 72.0, 73.0, 76.0]\n",
      "15\n"
     ]
    }
   ],
   "source": [
    "# code here and display all 3 values appropriately. You MUST NOT choose an array of your own choice.\n",
    "a = np.arange(-15, 15).reshape(5, 6) ** 2\n",
    "# The maximum of each row\n",
    "print([np.max(i) for i in a])\n",
    "# The mean of each column\n",
    "print([np.mean(i) for i in np.transpose(a)])\n",
    "# The position of the overall minimum\n",
    "print(np.argmin(a))"
   ]
  },
  {
   "cell_type": "markdown",
   "metadata": {
    "id": "oWtZzrvXjxVl"
   },
   "source": [
    "# Array Broadcasting\n",
    "NumPy arrays of different dimensionality can be combined in the same expression. Arrays with smaller dimension are broadcasted to match the larger arrays, without copying data.\n",
    "\n",
    "Broadcasting has two rules.\n",
    "\n",
    "RULE 1: PREPEND ONES TO SMALLER ARRAY'S SHAPE\n",
    "\n",
    "RULE 2: DIMENSIONS OF SIZE 1 ARE REPEATED WITHOUT COPYING"
   ]
  },
  {
   "cell_type": "code",
   "execution_count": 79,
   "metadata": {
    "colab": {
     "base_uri": "https://localhost:8080/"
    },
    "id": "7vrTvmEWjwtY",
    "outputId": "5e2bc0df-7782-4609-b8bf-7abeeb7e121b"
   },
   "outputs": [
    {
     "name": "stdout",
     "output_type": "stream",
     "text": [
      "[[[ 0  2  4  6]]\n",
      "\n",
      " [[ 4  6  8 10]]\n",
      "\n",
      " [[ 8 10 12 14]]\n",
      "\n",
      " [[12 14 16 18]]\n",
      "\n",
      " [[16 18 20 22]]]\n",
      "[[[ 0  0  0  0]]\n",
      "\n",
      " [[ 4  4  4  4]]\n",
      "\n",
      " [[ 8  8  8  8]]\n",
      "\n",
      " [[12 12 12 12]]\n",
      "\n",
      " [[16 16 16 16]]]\n"
     ]
    }
   ],
   "source": [
    "#code here # Create 2 arrays A and B with dim (5,4) and (5,) respectively, apply addition and subtraction.\n",
    "a=np.arange(20).reshape(5,4)\n",
    "b=np.arange(4)\n",
    "print(a[:, np.newaxis]+b)\n",
    "print(a[:, np.newaxis]-b)"
   ]
  },
  {
   "cell_type": "markdown",
   "metadata": {
    "id": "Qp9UkMByj5Il"
   },
   "source": [
    "1.Use reduce() operation on an array to reduec it into a single meaningful value. You. can also use a specific axis to apply reduce operation.\n",
    "\n",
    "2.accumulate() creates a new array containing the intermediate results of the reduce operation at each element in a.\n"
   ]
  },
  {
   "cell_type": "code",
   "execution_count": 137,
   "metadata": {
    "colab": {
     "base_uri": "https://localhost:8080/"
    },
    "id": "nmLsvmTZj626",
    "outputId": "d30a4e41-0c28-48e1-cc48-1647c2554bbd"
   },
   "outputs": [
    {
     "name": "stdout",
     "output_type": "stream",
     "text": [
      "15\n",
      "[ 1  3  6 10 15]\n"
     ]
    }
   ],
   "source": [
    "# Answer here (use both of these functions on an array of your own choice)\n",
    "x=np.array([1,2,3,4,5])\n",
    "x1=np.add.reduce(x)\n",
    "print(x1)\n",
    "x2=np.add.accumulate(x)\n",
    "print(x2)"
   ]
  },
  {
   "cell_type": "markdown",
   "metadata": {
    "id": "bqVyb4DKZmkR"
   },
   "source": [
    "### We will work with the following array:"
   ]
  },
  {
   "cell_type": "code",
   "execution_count": 116,
   "metadata": {
    "colab": {
     "base_uri": "https://localhost:8080/"
    },
    "id": "Iz86eeTWZmsK",
    "outputId": "aa315e35-5ba7-4004-aec6-9b592cec66e9"
   },
   "outputs": [
    {
     "data": {
      "text/plain": [
       "array([[ 0,  1,  2,  3,  4],\n",
       "       [ 5,  6,  7,  8,  9],\n",
       "       [10, 11, 12, 13, 14],\n",
       "       [15, 16, 17, 18, 19],\n",
       "       [20, 21, 22, 23, 24]])"
      ]
     },
     "execution_count": 116,
     "metadata": {},
     "output_type": "execute_result"
    }
   ],
   "source": [
    "a = np.arange(25).reshape(5, 5)\n",
    "a\n",
    "#moving forward, you must use this array for the operations"
   ]
  },
  {
   "cell_type": "markdown",
   "metadata": {
    "id": "OdjK0hqobWGp"
   },
   "source": [
    "# Use slicing only to select 3rd and last row along with 2nd and last columns"
   ]
  },
  {
   "cell_type": "code",
   "execution_count": 87,
   "metadata": {
    "colab": {
     "base_uri": "https://localhost:8080/"
    },
    "id": "-iw2ciaibUHU",
    "outputId": "cdb89e65-aec7-497a-b538-4ee5be0b709a"
   },
   "outputs": [
    {
     "name": "stdout",
     "output_type": "stream",
     "text": [
      "[[11 14]\n",
      " [21 24]]\n"
     ]
    }
   ],
   "source": [
    "# Answer here\n",
    "print(a[2::2,(1,-1)])"
   ]
  },
  {
   "cell_type": "markdown",
   "metadata": {
    "id": "5PtInLvEb7Am"
   },
   "source": [
    "# Extract the following sub-array: [[2, 3], [12, 13], [22, 23]]"
   ]
  },
  {
   "cell_type": "code",
   "execution_count": 90,
   "metadata": {
    "colab": {
     "base_uri": "https://localhost:8080/"
    },
    "id": "lVi9eV2rb6hz",
    "outputId": "6c98d0d0-cad2-4f20-e49f-caca298ce187"
   },
   "outputs": [
    {
     "name": "stdout",
     "output_type": "stream",
     "text": [
      "[[ 2  3]\n",
      " [12 13]\n",
      " [22 23]]\n"
     ]
    }
   ],
   "source": [
    "# Answer here\n",
    "print(a[::2,(2,3)])"
   ]
  },
  {
   "cell_type": "markdown",
   "metadata": {
    "id": "mHN-ADlNcRE7"
   },
   "source": [
    "# Combine fancy/location indexing with slicing to extract the following sub-array: [[6, 8], [16, 18], [21, 23]]"
   ]
  },
  {
   "cell_type": "code",
   "execution_count": 104,
   "metadata": {
    "colab": {
     "base_uri": "https://localhost:8080/"
    },
    "id": "e_R0tbMHcNGy",
    "outputId": "cedbf55c-c0ce-4e5b-f978-d4947d2f1490"
   },
   "outputs": [
    {
     "name": "stdout",
     "output_type": "stream",
     "text": [
      "[[ 6  8]\n",
      " [16 18]\n",
      " [21 23]]\n"
     ]
    },
    {
     "data": {
      "text/plain": [
       "array([[ 0,  1,  2,  3,  4],\n",
       "       [ 5,  6,  7,  8,  9],\n",
       "       [10, 11, 12, 13, 14],\n",
       "       [15, 16, 17, 18, 19],\n",
       "       [20, 21, 22, 23, 24]])"
      ]
     },
     "execution_count": 104,
     "metadata": {},
     "output_type": "execute_result"
    }
   ],
   "source": [
    "# Answer here\n",
    "row=[1,3,4]\n",
    "col=[1,3]\n",
    "print(a[row,:][:,col])\n",
    "a"
   ]
  },
  {
   "cell_type": "markdown",
   "metadata": {
    "id": "gRle44JLc8oL"
   },
   "source": [
    "# Change the values 1, 10, 19 and 22 in the array to -2"
   ]
  },
  {
   "cell_type": "code",
   "execution_count": 105,
   "metadata": {
    "id": "MnIs-SBzdMPv"
   },
   "outputs": [],
   "source": [
    "# Answer\n",
    "val=[1,10,19,22]\n",
    "a[0,1]=-2\n",
    "a[2,0]=-2\n",
    "a[3,-1]=-2\n",
    "a[-1:1]=-2"
   ]
  },
  {
   "cell_type": "markdown",
   "metadata": {
    "id": "tWSQO5e3dZxf"
   },
   "source": [
    "# Repeat above using boolean indexing"
   ]
  },
  {
   "cell_type": "code",
   "execution_count": 114,
   "metadata": {
    "colab": {
     "base_uri": "https://localhost:8080/"
    },
    "id": "zytB7nrMdYfT",
    "outputId": "d96241f2-7a30-434f-b18c-ac7970c088ca"
   },
   "outputs": [
    {
     "name": "stdout",
     "output_type": "stream",
     "text": [
      "[[ 0 -2  2  3  4]\n",
      " [ 5  6  7  8  9]\n",
      " [-2 11 12 13 14]\n",
      " [15 16 17 18 -2]\n",
      " [20 21  2 23 24]]\n"
     ]
    }
   ],
   "source": [
    "# Answer here\n",
    "b=[1,10,19,22]\n",
    "condition= (a==1) | (a==10) | (a==19) | (a==22)\n",
    "a[condition]=-2\n",
    "print(a)"
   ]
  },
  {
   "cell_type": "markdown",
   "metadata": {
    "id": "2i_7lkqpdhtx"
   },
   "source": [
    "# Combine slicing in the column dimension and boolean indexing in row dimension to extract the following sub-array: [[0, 3], [10, 13], [15, 18]]"
   ]
  },
  {
   "cell_type": "code",
   "execution_count": 119,
   "metadata": {
    "colab": {
     "base_uri": "https://localhost:8080/"
    },
    "id": "O8683ef2dYng",
    "outputId": "1f45a78f-b903-4639-f7e4-0c4b2725e3d0"
   },
   "outputs": [
    {
     "name": "stdout",
     "output_type": "stream",
     "text": [
      "[[ 0  3]\n",
      " [10 13]\n",
      " [15 18]]\n"
     ]
    }
   ],
   "source": [
    "# Answer here\n",
    "row=np.array([True, False,True,True,False])\n",
    "colums=[0,3]\n",
    "print(a[row,:][:,colums])"
   ]
  },
  {
   "cell_type": "markdown",
   "metadata": {
    "id": "BLH29N-KLDEJ"
   },
   "source": [
    "# Calculating the sum, min and max of all diagonal values"
   ]
  },
  {
   "cell_type": "code",
   "execution_count": 122,
   "metadata": {
    "colab": {
     "base_uri": "https://localhost:8080/"
    },
    "id": "ARzj6VP9LCPz",
    "outputId": "3035f462-3930-4737-d14e-3e08ad3c9c68"
   },
   "outputs": [
    {
     "name": "stdout",
     "output_type": "stream",
     "text": [
      "60\n",
      "0\n",
      "24\n"
     ]
    }
   ],
   "source": [
    "# Answer here\n",
    "diag=np.diagonal(a)\n",
    "print(np.sum(diag))\n",
    "print(np.min(diag))\n",
    "print(np.max(diag))"
   ]
  },
  {
   "cell_type": "markdown",
   "metadata": {
    "id": "IIL3aHfpMQpr"
   },
   "source": [
    "# Calculate the sum of differences between the 2nd row and 2nd last column"
   ]
  },
  {
   "cell_type": "code",
   "execution_count": 123,
   "metadata": {
    "colab": {
     "base_uri": "https://localhost:8080/"
    },
    "id": "mNyxI8d0Mcvz",
    "outputId": "fbc5fe3b-11a7-4f61-c8c5-deaf254429e1"
   },
   "outputs": [
    {
     "name": "stdout",
     "output_type": "stream",
     "text": [
      "-30\n"
     ]
    }
   ],
   "source": [
    "# Answer here\n",
    "row=a[1,:]\n",
    "col=a[:,-2]\n",
    "dif=row-col\n",
    "print(np.sum(dif))"
   ]
  },
  {
   "cell_type": "markdown",
   "metadata": {
    "id": "jEo7E6YNNIU5"
   },
   "source": [
    "# Create a new array that is the sum of even rows and odd rows"
   ]
  },
  {
   "cell_type": "code",
   "execution_count": 2,
   "metadata": {
    "colab": {
     "base_uri": "https://localhost:8080/"
    },
    "id": "UEwbxwAPNikT",
    "outputId": "56775e62-663d-4e03-c6be-60cc6bbccbd5"
   },
   "outputs": [
    {
     "ename": "NameError",
     "evalue": "name 'a' is not defined",
     "output_type": "error",
     "traceback": [
      "\u001b[1;31m---------------------------------------------------------------------------\u001b[0m",
      "\u001b[1;31mNameError\u001b[0m                                 Traceback (most recent call last)",
      "Cell \u001b[1;32mIn[2], line 2\u001b[0m\n\u001b[0;32m      1\u001b[0m \u001b[38;5;66;03m# Answer here\u001b[39;00m\n\u001b[1;32m----> 2\u001b[0m erow\u001b[38;5;241m=\u001b[39ma[\u001b[38;5;241m0\u001b[39m::\u001b[38;5;241m2\u001b[39m]\n\u001b[0;32m      3\u001b[0m orow\u001b[38;5;241m=\u001b[39ma[\u001b[38;5;241m1\u001b[39m::\u001b[38;5;241m2\u001b[39m]\n\u001b[0;32m      4\u001b[0m arr\u001b[38;5;241m=\u001b[39m[]\n",
      "\u001b[1;31mNameError\u001b[0m: name 'a' is not defined"
     ]
    }
   ],
   "source": [
    "# Answer here\n",
    "erow=a[0::2]\n",
    "orow=a[1::2]\n",
    "arr=[]\n",
    "arr.append(np.sum(erow))\n",
    "arr.append(np.sum(orow))\n",
    "print(arr)"
   ]
  },
  {
   "cell_type": "code",
   "execution_count": 28,
   "metadata": {},
   "outputs": [
    {
     "name": "stdout",
     "output_type": "stream",
     "text": [
      "26\n"
     ]
    }
   ],
   "source": [
    "import numpy as np \n",
    "arr=np.random(100)\n",
    "print(arr)"
   ]
  },
  {
   "cell_type": "markdown",
   "metadata": {
    "id": "TaKXFf_5d67q"
   },
   "source": [
    "## You are done. Good job!"
   ]
  }
 ],
 "metadata": {
  "colab": {
   "provenance": []
  },
  "kernelspec": {
   "display_name": "Python 3 (ipykernel)",
   "language": "python",
   "name": "python3"
  },
  "language_info": {
   "codemirror_mode": {
    "name": "ipython",
    "version": 3
   },
   "file_extension": ".py",
   "mimetype": "text/x-python",
   "name": "python",
   "nbconvert_exporter": "python",
   "pygments_lexer": "ipython3",
   "version": "3.12.4"
  }
 },
 "nbformat": 4,
 "nbformat_minor": 4
}
