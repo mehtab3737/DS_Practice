{
 "cells": [
  {
   "cell_type": "code",
   "execution_count": 3,
   "id": "59274673-ea85-444c-ac69-3c98b35307e2",
   "metadata": {},
   "outputs": [],
   "source": [
    "import numpy as np"
   ]
  },
  {
   "cell_type": "code",
   "execution_count": 20,
   "id": "f756d943-a7e2-4ae2-947a-5dbd8c8f8ba1",
   "metadata": {},
   "outputs": [
    {
     "name": "stdout",
     "output_type": "stream",
     "text": [
      "[1 2 3 4 5 6 7 8 9]\n"
     ]
    },
    {
     "data": {
      "text/plain": [
       "1"
      ]
     },
     "execution_count": 20,
     "metadata": {},
     "output_type": "execute_result"
    }
   ],
   "source": [
    "#Problem 1 : Create 1D array\n",
    "arr1d=np.array([1,2,3,4,5,6,7,8,9])\n",
    "print(arr1d)\n",
    "arr1d.ndim"
   ]
  },
  {
   "cell_type": "code",
   "execution_count": 43,
   "id": "720b7f04-0c38-40d8-996e-844ce90994b5",
   "metadata": {},
   "outputs": [
    {
     "name": "stdout",
     "output_type": "stream",
     "text": [
      "[[0 0 0]\n",
      " [0 0 0]]\n"
     ]
    },
    {
     "data": {
      "text/plain": [
       "2"
      ]
     },
     "execution_count": 43,
     "metadata": {},
     "output_type": "execute_result"
    }
   ],
   "source": [
    "#Problem 2 : Create 2D array with dimention (2,3)\n",
    "arr2d=np.array([[0,0,0],[0,0,0]])\n",
    "print(arr2d)\n",
    "arr2d.ndim"
   ]
  },
  {
   "cell_type": "code",
   "execution_count": 42,
   "id": "4de6b98b-bf80-4951-82ac-2a321dad17fa",
   "metadata": {},
   "outputs": [
    {
     "name": "stdout",
     "output_type": "stream",
     "text": [
      "[[[0 0 0]\n",
      "  [0 0 0]]\n",
      "\n",
      " [[0 0 0]\n",
      "  [0 0 0]]\n",
      "\n",
      " [[0 0 0]\n",
      "  [0 0 0]]\n",
      "\n",
      " [[0 0 0]\n",
      "  [0 0 0]]]\n"
     ]
    },
    {
     "data": {
      "text/plain": [
       "3"
      ]
     },
     "execution_count": 42,
     "metadata": {},
     "output_type": "execute_result"
    }
   ],
   "source": [
    "#Problem 3 : Create 3D array with dimention (4,2,3)\n",
    "arr3d=np.array([[[0,0,0],[0,0,0]],[[0,0,0],[0,0,0]],[[0,0,0],[0,0,0]],[[0,0,0],[0,0,0]]])\n",
    "print(arr3d)\n",
    "arr3d.ndim"
   ]
  },
  {
   "cell_type": "code",
   "execution_count": 41,
   "id": "d2bc6b17-fad9-4168-bfb5-147449b1aa02",
   "metadata": {
    "scrolled": true
   },
   "outputs": [
    {
     "name": "stdout",
     "output_type": "stream",
     "text": [
      "[[[[0 0 0]\n",
      "   [0 0 0]]\n",
      "\n",
      "  [[0 0 0]\n",
      "   [0 0 0]]\n",
      "\n",
      "  [[0 0 0]\n",
      "   [0 0 0]]\n",
      "\n",
      "  [[0 0 0]\n",
      "   [0 0 0]]]\n",
      "\n",
      "\n",
      " [[[0 0 0]\n",
      "   [0 0 0]]\n",
      "\n",
      "  [[0 0 0]\n",
      "   [0 0 0]]\n",
      "\n",
      "  [[0 0 0]\n",
      "   [0 0 0]]\n",
      "\n",
      "  [[0 0 0]\n",
      "   [0 0 0]]]\n",
      "\n",
      "\n",
      " [[[0 0 0]\n",
      "   [0 0 0]]\n",
      "\n",
      "  [[0 0 0]\n",
      "   [0 0 0]]\n",
      "\n",
      "  [[0 0 0]\n",
      "   [0 0 0]]\n",
      "\n",
      "  [[0 0 0]\n",
      "   [0 0 0]]]\n",
      "\n",
      "\n",
      " [[[0 0 0]\n",
      "   [0 0 0]]\n",
      "\n",
      "  [[0 0 0]\n",
      "   [0 0 0]]\n",
      "\n",
      "  [[0 0 0]\n",
      "   [0 0 0]]\n",
      "\n",
      "  [[0 0 0]\n",
      "   [0 0 0]]]\n",
      "\n",
      "\n",
      " [[[0 0 0]\n",
      "   [0 0 0]]\n",
      "\n",
      "  [[0 0 0]\n",
      "   [0 0 0]]\n",
      "\n",
      "  [[0 0 0]\n",
      "   [0 0 0]]\n",
      "\n",
      "  [[0 0 0]\n",
      "   [0 0 0]]]]\n"
     ]
    },
    {
     "data": {
      "text/plain": [
       "(5, 4, 2, 3)"
      ]
     },
     "execution_count": 41,
     "metadata": {},
     "output_type": "execute_result"
    }
   ],
   "source": [
    "#Problem 4 : Create 4D array  with dimention (5,4,2,3)\n",
    "arr4d=np.array([[[[0,0,0],[0,0,0]],[[0,0,0],[0,0,0]],[[0,0,0],[0,0,0]],[[0,0,0],[0,0,0]]],[[[0,0,0],[0,0,0]],[[0,0,0],[0,0,0]],[[0,0,0],[0,0,0]],[[0,0,0],[0,0,0]]],[[[0,0,0],[0,0,0]],[[0,0,0],[0,0,0]],[[0,0,0],[0,0,0]],[[0,0,0],[0,0,0]]],[[[0,0,0],[0,0,0]],[[0,0,0],[0,0,0]],[[0,0,0],[0,0,0]],[[0,0,0],[0,0,0]]],[[[0,0,0],[0,0,0]],[[0,0,0],[0,0,0]],[[0,0,0],[0,0,0]],[[0,0,0],[0,0,0]]]])\n",
    "print(arr4d)\n",
    "arr4d.shape"
   ]
  },
  {
   "cell_type": "markdown",
   "id": "b1c4c83e-a49c-4888-a31f-d509620f2960",
   "metadata": {},
   "source": [
    "# Accessing and Modifying Elements\n"
   ]
  },
  {
   "cell_type": "code",
   "execution_count": 33,
   "id": "e66f9e4b-9301-4f35-b995-133891a8a4ff",
   "metadata": {},
   "outputs": [
    {
     "name": "stdout",
     "output_type": "stream",
     "text": [
      "6\n"
     ]
    }
   ],
   "source": [
    "#Problem 4: Given the following array, access the element at the second row, third column:\n",
    "arr = np.array([[1, 2, 3], [4, 5, 6], [7, 8, 9]])\n",
    "print(arr[1,2])"
   ]
  },
  {
   "cell_type": "code",
   "execution_count": 34,
   "id": "7d3f40c0-2005-47d3-ae9a-9d100d1872c2",
   "metadata": {},
   "outputs": [
    {
     "name": "stdout",
     "output_type": "stream",
     "text": [
      "[[10  2]\n",
      " [ 3  4]]\n"
     ]
    }
   ],
   "source": [
    "#Problem 5: Change the value of the element at the first row, first column to 10 in the following array:\n",
    "arr = np.array([[1, 2], [3, 4]])\n",
    "arr[0,0]=10\n",
    "print(arr)"
   ]
  },
  {
   "cell_type": "markdown",
   "id": "33223d65-e2f2-4f58-af94-7e1d13ec639a",
   "metadata": {},
   "source": [
    "# Reshaping Arrays"
   ]
  },
  {
   "cell_type": "code",
   "execution_count": 45,
   "id": "a2bc3784-c5ed-451c-a323-17cbe0500fd3",
   "metadata": {},
   "outputs": [
    {
     "data": {
      "text/plain": [
       "(3, 4)"
      ]
     },
     "execution_count": 45,
     "metadata": {},
     "output_type": "execute_result"
    }
   ],
   "source": [
    "#Problem 6: Take a 1D array of 12 elements and reshape it into a 2D array with shape (3, 4).\n",
    "arr=np.array([1,2,3,4,5,6,7,8,9,10,11,12])\n",
    "reshaped_array=arr.reshape(3,4)\n",
    "reshaped_array.shape\n"
   ]
  },
  {
   "cell_type": "code",
   "execution_count": 49,
   "id": "ecce1d95-013d-453a-8c27-74bfb0eb4442",
   "metadata": {},
   "outputs": [
    {
     "data": {
      "text/plain": [
       "array([[ 1,  2,  3,  4],\n",
       "       [ 5,  6,  7,  8],\n",
       "       [ 9, 10, 11, 12]])"
      ]
     },
     "execution_count": 49,
     "metadata": {},
     "output_type": "execute_result"
    }
   ],
   "source": [
    "#Problem 7: Create a 2D array of shape (2, 6) and reshape it to (3, 4). What error do you get? \n",
    "arr=np.array([[1,2,3,4,5,6],[7,8,9,10,11,12]])\n",
    "reshaped_array=arr.reshape(3,4)\n",
    "reshaped_array\n",
    "\n",
    "# No error"
   ]
  },
  {
   "cell_type": "markdown",
   "id": "50551c82-faa2-484d-98ae-b7e61d22ce62",
   "metadata": {},
   "source": [
    "# Array Dimensions and Properties\n"
   ]
  },
  {
   "cell_type": "code",
   "execution_count": 53,
   "id": "8b81964e-0a63-44bd-abff-6f7457db934c",
   "metadata": {},
   "outputs": [
    {
     "name": "stdout",
     "output_type": "stream",
     "text": [
      "Its shape is  (2, 5)\n",
      "It has  2 dimentions\n"
     ]
    }
   ],
   "source": [
    "#Problem 8: Create a 2D array of shape (5, 5) and print its shape and number of dimensions.\n",
    "arr=np.array([[1,2,3,4,5],[6,7,8,9,10]])\n",
    "print(\"Its shape is \" , arr.shape)\n",
    "print(\"It has \",arr.ndim,\"dimentions\")"
   ]
  },
  {
   "cell_type": "code",
   "execution_count": 58,
   "id": "02b64663-c4c7-43ca-9076-28d5f58b52de",
   "metadata": {},
   "outputs": [
    {
     "name": "stdout",
     "output_type": "stream",
     "text": [
      "Its size is  (3, 4)\n"
     ]
    }
   ],
   "source": [
    "#Problem 9: Create a 3D array of shape (2, 3, 4) and find out the size of the first dimension.\n",
    "arr=np.array([[[0,0,0,0],[0,0,0,0],[0,0,0,0]],[[0,0,0,0],[0,0,0,0],[0,0,0,0]]])\n",
    "print(\"Its size is \" , arr[0].shape)"
   ]
  },
  {
   "cell_type": "markdown",
   "id": "4456c894-45ba-4b03-a8c7-bbe4d49e7316",
   "metadata": {},
   "source": [
    "# Stacking and Concatenation\n"
   ]
  },
  {
   "cell_type": "code",
   "execution_count": 69,
   "id": "24d2917a-db64-481a-a6c7-6b449e1a2607",
   "metadata": {},
   "outputs": [
    {
     "name": "stdout",
     "output_type": "stream",
     "text": [
      "Concated array is :  [[1 2 3]\n",
      " [2 4 5]\n",
      " [4 5 6]\n",
      " [7 8 9]]\n"
     ]
    }
   ],
   "source": [
    "#Problem 10: Create two 1D arrays of shape (3,) and concatenate them into a single 1D array.\n",
    "arr1=np.array([[1,2,3],[2,4,5]])\n",
    "arr2=np.array([[4,5,6],[7,8,9]])\n",
    "Concat_arr=np.concatenate((arr1,arr2), axis=0)\n",
    "print(\"Concated array is : \",Concat_arr)"
   ]
  },
  {
   "cell_type": "code",
   "execution_count": 74,
   "id": "8650d26e-1fe2-455d-b90e-b2edbbcddaef",
   "metadata": {},
   "outputs": [
    {
     "name": "stdout",
     "output_type": "stream",
     "text": [
      "[[ 1  2  3]\n",
      " [ 4  5  6]\n",
      " [ 7  8  9]\n",
      " [10 11 12]]\n",
      "[[ 1  2  3  7  8  9]\n",
      " [ 4  5  6 10 11 12]]\n"
     ]
    }
   ],
   "source": [
    "#Problem 11: Create two 2D arrays of shape (2, 3) and stack them vertically.\n",
    "arr1=np.array([[1,2,3],[4,5,6]])\n",
    "arr2=np.array([[7,8,9],[10,11,12]])\n",
    "vstack_arr=np.vstack((arr1,arr2))\n",
    "print(vstack_arr)\n",
    "# Now practice hstack\n",
    "arr1=np.array([[1,2,3],[4,5,6]])\n",
    "arr2=np.array([[7,8,9],[10,11,12]])\n",
    "hstack_arr=np.hstack((arr1,arr2))\n",
    "print(hstack_arr)"
   ]
  },
  {
   "cell_type": "markdown",
   "id": "b32a000b-8549-4729-85fa-3f031788848e",
   "metadata": {},
   "source": [
    "#  Slicing and Indexing\n"
   ]
  },
  {
   "cell_type": "code",
   "execution_count": 75,
   "id": "bc312554-696d-4c48-8b32-11fcf3bd3230",
   "metadata": {},
   "outputs": [
    {
     "name": "stdout",
     "output_type": "stream",
     "text": [
      "Last Row is :   [70 80 90]\n"
     ]
    }
   ],
   "source": [
    "#Problem 12: Given the following array, extract the last row:\n",
    "arr = np.array([[10, 20, 30], [40, 50, 60], [70, 80, 90]])\n",
    "print(\"Last Row is :  \",arr[2])"
   ]
  },
  {
   "cell_type": "code",
   "execution_count": 83,
   "id": "a8b0a09e-d536-44f8-b56e-59f83a2fd92c",
   "metadata": {},
   "outputs": [
    {
     "name": "stdout",
     "output_type": "stream",
     "text": [
      "[[1 2 3 4]\n",
      " [5 6 7 8]]\n",
      "[[ 3  4]\n",
      " [ 7  8]\n",
      " [11 12]\n",
      " [15 16]]\n"
     ]
    }
   ],
   "source": [
    "# Problem 13: From a 2D array of shape (4, 4), select all elements from the first two rows and last two columns.\n",
    "arr=np.array([1,2,3,4,5,6,7,8,9,10,11,12,13,14,15,16])\n",
    "arr=arr.reshape(4,4)\n",
    "print(arr[:2,:])\n",
    "print(arr[:,-2:])\n"
   ]
  },
  {
   "cell_type": "markdown",
   "id": "f9a7f455-fb16-4ba5-b925-1cdda3783003",
   "metadata": {},
   "source": [
    "#  Advanced Indexing\n"
   ]
  },
  {
   "cell_type": "code",
   "execution_count": 86,
   "id": "faa1192e-cf83-4f32-94e8-8abf11e5fd41",
   "metadata": {},
   "outputs": [
    {
     "name": "stdout",
     "output_type": "stream",
     "text": [
      "Values greater then 5 are :  [ 6  7  8  9 10]\n"
     ]
    }
   ],
   "source": [
    "#Problem 14: Create a 2D array and use boolean indexing to select all elements greater than 5. \n",
    "arr=np.array([1,2,3,4,5,6,7,8,9,10]) \n",
    "condition=arr>5 \n",
    "modified_arr=arr[condition] \n",
    "print(\"Values greater then 5 are : \",modified_arr)"
   ]
  },
  {
   "cell_type": "code",
   "execution_count": 88,
   "id": "ad4e856b-8dc2-4833-b5b6-4c6ea87e1a3e",
   "metadata": {},
   "outputs": [
    {
     "name": "stdout",
     "output_type": "stream",
     "text": [
      "Array with given indexes is  [1 3 5 7]\n"
     ]
    }
   ],
   "source": [
    "#Problem 15: Create a 1D array with values from 1 to 10, and then index it using a list of indices [0, 2, 4, 6].\n",
    "arr=np.array([1,2,3,4,5,6,7,8,9,10]) \n",
    "index_arr=[0, 2, 4, 6]\n",
    "print(\"Array with given indexes is \",arr[index_arr])"
   ]
  },
  {
   "cell_type": "markdown",
   "id": "89df24d1-09ef-4837-84c2-0a88d70e9386",
   "metadata": {},
   "source": [
    "# Broadcasting"
   ]
  },
  {
   "cell_type": "code",
   "execution_count": 92,
   "id": "b7e3c9ee-b231-4d7a-bcc5-1c339f66577f",
   "metadata": {},
   "outputs": [
    {
     "name": "stdout",
     "output_type": "stream",
     "text": [
      "[[1.16434413 0.95516706 0.97477979 0.85148127]\n",
      " [1.55549007 1.52339432 1.67082162 0.99366029]\n",
      " [1.06828675 1.38768551 1.21333831 1.25467592]]\n"
     ]
    }
   ],
   "source": [
    "#Problem 16: Create a 2D array of shape (3, 4) and add a 1D array of shape (4,) to it.\n",
    "TwoD_arr=np.random.rand(3,4)\n",
    "OneD_arr=np.random.rand(4)\n",
    "Updated_array=TwoD_arr + OneD_arr\n",
    "print(Updated_array)"
   ]
  },
  {
   "cell_type": "code",
   "execution_count": 96,
   "id": "1d912b06-a689-4dfc-97c3-de6af0968271",
   "metadata": {},
   "outputs": [
    {
     "name": "stdout",
     "output_type": "stream",
     "text": [
      "[[ 8  9 10]\n",
      " [12 13 14]]\n"
     ]
    }
   ],
   "source": [
    "#Problem 17: Create two arrays of shape (2, 3) and (2, 1), and perform element-wise addition. What do you observe?\n",
    "arr1=np.array([[1,2,3],[4,5,6]])\n",
    "arr2=np.array([[7],[8]])\n",
    "new_arr=arr1+arr2\n",
    "print(new_arr)\n",
    "#Yes it is adding each single element of second arr with whole arr in 1st array"
   ]
  },
  {
   "cell_type": "code",
   "execution_count": 27,
   "id": "fd888fa7-df17-42c0-a521-f682ab8dbefb",
   "metadata": {},
   "outputs": [
    {
     "name": "stdout",
     "output_type": "stream",
     "text": [
      "int32\n",
      "<class 'numpy.ndarray'>\n",
      "1\n",
      "(3,)\n",
      "4\n",
      "12\n"
     ]
    }
   ],
   "source": [
    "import numpy as np\n",
    "arr1=np.array([4,5,6])\n",
    "print(arr1.dtype)\n",
    "print(type(arr1))\n",
    "print(arr1.ndim)\n",
    "print(arr1.shape)\n",
    "print(arr1.itemsize)\n",
    "print(arr1.nbytes)"
   ]
  },
  {
   "cell_type": "code",
   "execution_count": 8,
   "id": "79198906-18b9-4413-9762-ef7656818e90",
   "metadata": {},
   "outputs": [
    {
     "data": {
      "text/plain": [
       "array([ 4, 16, 25, 36])"
      ]
     },
     "execution_count": 8,
     "metadata": {},
     "output_type": "execute_result"
    }
   ],
   "source": [
    "arr1=np.array([2,4,5,6])\n",
    "arr2=np.array([2,4,5,6])\n",
    "arr1*arr2"
   ]
  },
  {
   "cell_type": "code",
   "execution_count": 9,
   "id": "e0990597-9b96-45b5-b64d-b75b18a27404",
   "metadata": {},
   "outputs": [],
   "source": [
    "a=np.arange(11)"
   ]
  },
  {
   "cell_type": "code",
   "execution_count": 10,
   "id": "9ce2361b-0cd9-4f6b-ba84-174cee3ae87e",
   "metadata": {},
   "outputs": [
    {
     "data": {
      "text/plain": [
       "array([ 0,  1,  2,  3,  4,  5,  6,  7,  8,  9, 10])"
      ]
     },
     "execution_count": 10,
     "metadata": {},
     "output_type": "execute_result"
    }
   ],
   "source": [
    "a"
   ]
  },
  {
   "cell_type": "code",
   "execution_count": 11,
   "id": "93587461-1098-4dc3-a02f-584c2cbcdf9d",
   "metadata": {},
   "outputs": [],
   "source": [
    "c = (2.0 * np.pi) / 10.0"
   ]
  },
  {
   "cell_type": "code",
   "execution_count": 12,
   "id": "6595c91c-8f46-4193-af74-905e002d0423",
   "metadata": {},
   "outputs": [
    {
     "data": {
      "text/plain": [
       "0.6283185307179586"
      ]
     },
     "execution_count": 12,
     "metadata": {},
     "output_type": "execute_result"
    }
   ],
   "source": [
    "c"
   ]
  },
  {
   "cell_type": "code",
   "execution_count": 13,
   "id": "c8672f0e-6baa-4355-8238-2f3d80a54ceb",
   "metadata": {},
   "outputs": [
    {
     "data": {
      "text/plain": [
       "0.5877852522924731"
      ]
     },
     "execution_count": 13,
     "metadata": {},
     "output_type": "execute_result"
    }
   ],
   "source": [
    "np.sin(c)"
   ]
  },
  {
   "cell_type": "code",
   "execution_count": 16,
   "id": "7b673dc6-4928-4841-af0d-30475146dc2e",
   "metadata": {},
   "outputs": [],
   "source": [
    "arr1.fill(32.4)"
   ]
  },
  {
   "cell_type": "code",
   "execution_count": 17,
   "id": "1c34dfb6-f0d7-49ba-b9f8-fabba318a1e3",
   "metadata": {},
   "outputs": [
    {
     "data": {
      "text/plain": [
       "array([32, 32, 32, 32])"
      ]
     },
     "execution_count": 17,
     "metadata": {},
     "output_type": "execute_result"
    }
   ],
   "source": [
    "arr1"
   ]
  },
  {
   "cell_type": "code",
   "execution_count": 20,
   "id": "07c3972a-3ac9-4a97-bb27-2776f8258c2c",
   "metadata": {},
   "outputs": [
    {
     "data": {
      "text/plain": [
       "array([ 0,  1,  2,  3,  4,  5,  6,  7,  8,  9, 10])"
      ]
     },
     "execution_count": 20,
     "metadata": {},
     "output_type": "execute_result"
    }
   ],
   "source": [
    "a=np.arange(11)\n",
    "a"
   ]
  },
  {
   "cell_type": "code",
   "execution_count": 25,
   "id": "80138584-2eea-4aaa-892d-38ca7d057eaf",
   "metadata": {},
   "outputs": [
    {
     "data": {
      "text/plain": [
       "14"
      ]
     },
     "execution_count": 25,
     "metadata": {},
     "output_type": "execute_result"
    }
   ],
   "source": [
    "arr=np.arange(16)\n",
    "arr=arr.reshape(2,4,2)\n",
    "arr[1,3,0]"
   ]
  },
  {
   "cell_type": "code",
   "execution_count": 24,
   "id": "91d7a5ca-4b3b-445d-90ca-c3240a773e3f",
   "metadata": {},
   "outputs": [
    {
     "data": {
      "text/plain": [
       "array([[[ 0,  1],\n",
       "        [ 2,  3],\n",
       "        [ 4,  5],\n",
       "        [ 6,  7]],\n",
       "\n",
       "       [[ 8,  9],\n",
       "        [10, 11],\n",
       "        [12, 13],\n",
       "        [14, 15]]])"
      ]
     },
     "execution_count": 24,
     "metadata": {},
     "output_type": "execute_result"
    }
   ],
   "source": [
    "arr"
   ]
  },
  {
   "cell_type": "code",
   "execution_count": 121,
   "id": "8fe86ec5-bfda-407e-9af9-b4795f519b66",
   "metadata": {},
   "outputs": [
    {
     "data": {
      "text/plain": [
       "array([0.0e+00, 3.1e+08, 6.3e+08, 9.4e+08, 1.3e+09, 1.6e+09, 1.9e+09,\n",
       "       2.2e+09, 2.5e+09, 2.8e+09, 3.1e+09])"
      ]
     },
     "execution_count": 121,
     "metadata": {},
     "output_type": "execute_result"
    }
   ],
   "source": [
    "a1=np.arange(11)\n",
    "a1=a1*np.pi*1e8\n",
    "a1"
   ]
  },
  {
   "cell_type": "code",
   "execution_count": 123,
   "id": "cd44f042-9f32-478d-a7c8-e45541e2a85e",
   "metadata": {},
   "outputs": [],
   "source": [
    "np.set_printoptions(precision=3)\n"
   ]
  },
  {
   "cell_type": "code",
   "execution_count": 124,
   "id": "51619506-ca65-4e29-84df-7e0a729a051a",
   "metadata": {},
   "outputs": [
    {
     "data": {
      "text/plain": [
       "array([0.000e+00, 3.142e+08, 6.283e+08, 9.425e+08, 1.257e+09, 1.571e+09,\n",
       "       1.885e+09, 2.199e+09, 2.513e+09, 2.827e+09, 3.142e+09])"
      ]
     },
     "execution_count": 124,
     "metadata": {},
     "output_type": "execute_result"
    }
   ],
   "source": [
    "a1"
   ]
  },
  {
   "cell_type": "code",
   "execution_count": 125,
   "id": "e4164223-f82e-4038-8e49-1d1dc187a381",
   "metadata": {},
   "outputs": [],
   "source": [
    "np.set_printoptions(suppress=True)"
   ]
  },
  {
   "cell_type": "code",
   "execution_count": 126,
   "id": "7a3b94da-e46a-4c2c-8f88-3a8ea12c5052",
   "metadata": {},
   "outputs": [
    {
     "data": {
      "text/plain": [
       "array([0.000e+00, 3.142e+08, 6.283e+08, 9.425e+08, 1.257e+09, 1.571e+09,\n",
       "       1.885e+09, 2.199e+09, 2.513e+09, 2.827e+09, 3.142e+09])"
      ]
     },
     "execution_count": 126,
     "metadata": {},
     "output_type": "execute_result"
    }
   ],
   "source": [
    "a1"
   ]
  },
  {
   "cell_type": "code",
   "execution_count": 75,
   "id": "4aa45175-31e9-477e-aa66-9561af1be051",
   "metadata": {},
   "outputs": [
    {
     "data": {
      "text/plain": [
       "array([0, 1, 2, 3, 4, 5])"
      ]
     },
     "execution_count": 75,
     "metadata": {},
     "output_type": "execute_result"
    }
   ],
   "source": [
    "a=np.arange(6)\n",
    "a"
   ]
  },
  {
   "cell_type": "code",
   "execution_count": null,
   "id": "932e1d02-c651-4d2c-b285-e2d9c262a3ee",
   "metadata": {},
   "outputs": [],
   "source": [
    "a[-1:-4]\n",
    "\n",
    "a[-1:-5:-1]"
   ]
  },
  {
   "cell_type": "code",
   "execution_count": 88,
   "id": "a30974b8-e583-4b75-a144-7080f352d48f",
   "metadata": {},
   "outputs": [],
   "source": [
    "a=np.arange(25)\n",
    "a=a.reshape(5,5)"
   ]
  },
  {
   "cell_type": "code",
   "execution_count": 89,
   "id": "62038fb5-23dd-41f4-9c6b-81f460e7c76d",
   "metadata": {},
   "outputs": [
    {
     "data": {
      "text/plain": [
       "array([[ 0,  1,  2,  3,  4],\n",
       "       [ 5,  6,  7,  8,  9],\n",
       "       [10, 11, 12, 13, 14],\n",
       "       [15, 16, 17, 18, 19],\n",
       "       [20, 21, 22, 23, 24]])"
      ]
     },
     "execution_count": 89,
     "metadata": {},
     "output_type": "execute_result"
    }
   ],
   "source": [
    "a"
   ]
  },
  {
   "cell_type": "code",
   "execution_count": 131,
   "id": "c4d76d04-4ebd-446a-8e98-d725ebb85ce5",
   "metadata": {},
   "outputs": [
    {
     "data": {
      "text/plain": [
       "array([[18, 19],\n",
       "       [23, 24]])"
      ]
     },
     "execution_count": 131,
     "metadata": {},
     "output_type": "execute_result"
    }
   ],
   "source": [
    "a[3:,3:]"
   ]
  },
  {
   "cell_type": "code",
   "execution_count": 138,
   "id": "df57f6ac-edd9-41b6-8c3e-dcc676929f4d",
   "metadata": {
    "scrolled": true
   },
   "outputs": [
    {
     "data": {
      "text/plain": [
       "array([[ 5,  7],\n",
       "       [15, 17]])"
      ]
     },
     "execution_count": 138,
     "metadata": {},
     "output_type": "execute_result"
    }
   ],
   "source": [
    "a[1::2,0:4:2]"
   ]
  },
  {
   "cell_type": "code",
   "execution_count": 142,
   "id": "4ce04e45-30d1-45b1-8570-a3b6c91d52b5",
   "metadata": {
    "scrolled": true
   },
   "outputs": [
    {
     "data": {
      "text/plain": [
       "array([20, 21, 24])"
      ]
     },
     "execution_count": 142,
     "metadata": {},
     "output_type": "execute_result"
    }
   ],
   "source": [
    "a[4,[0,1,4]]"
   ]
  },
  {
   "cell_type": "code",
   "execution_count": 146,
   "id": "1378f237-32e1-4173-bad0-772a4753f7a3",
   "metadata": {},
   "outputs": [
    {
     "data": {
      "text/plain": [
       "True"
      ]
     },
     "execution_count": 146,
     "metadata": {},
     "output_type": "execute_result"
    }
   ],
   "source": [
    "a=np.array([1,2,3,4,5])\n",
    "b=a[2:4]\n",
    "b[0]=10\n",
    "np.shares_memory(a,b)"
   ]
  },
  {
   "cell_type": "code",
   "execution_count": 147,
   "id": "efa207cf-6d80-41c8-b55a-707fd35145b9",
   "metadata": {},
   "outputs": [
    {
     "data": {
      "text/plain": [
       "array([ 1,  2, 10,  4,  5])"
      ]
     },
     "execution_count": 147,
     "metadata": {},
     "output_type": "execute_result"
    }
   ],
   "source": [
    "a"
   ]
  },
  {
   "cell_type": "code",
   "execution_count": null,
   "id": "9aa54907-63f1-4766-9c37-ac61890e0a75",
   "metadata": {},
   "outputs": [],
   "source": []
  },
  {
   "cell_type": "code",
   "execution_count": null,
   "id": "67aedf58-5d46-402b-a812-537757862bf7",
   "metadata": {},
   "outputs": [],
   "source": []
  }
 ],
 "metadata": {
  "kernelspec": {
   "display_name": "Python 3 (ipykernel)",
   "language": "python",
   "name": "python3"
  },
  "language_info": {
   "codemirror_mode": {
    "name": "ipython",
    "version": 3
   },
   "file_extension": ".py",
   "mimetype": "text/x-python",
   "name": "python",
   "nbconvert_exporter": "python",
   "pygments_lexer": "ipython3",
   "version": "3.12.4"
  }
 },
 "nbformat": 4,
 "nbformat_minor": 5
}
