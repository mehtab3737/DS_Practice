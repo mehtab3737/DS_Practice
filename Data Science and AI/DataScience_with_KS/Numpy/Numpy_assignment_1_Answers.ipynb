{
 "cells": [
  {
   "cell_type": "code",
   "execution_count": 3,
   "metadata": {
    "id": "YAvC8k1FKC6i"
   },
   "outputs": [],
   "source": [
    "import numpy as np"
   ]
  },
  {
   "cell_type": "markdown",
   "metadata": {
    "id": "z-ttfWOCWYAD"
   },
   "source": [
    "### Basic Array Creation"
   ]
  },
  {
   "cell_type": "markdown",
   "metadata": {
    "id": "ZksDKlwjHvFV"
   },
   "source": [
    "# Creatation of List\n",
    "create List in python? # Check Type of list"
   ]
  },
  {
   "cell_type": "code",
   "execution_count": 2,
   "metadata": {
    "colab": {
     "base_uri": "https://localhost:8080/"
    },
    "id": "mCgQsxXkF3nb",
    "outputId": "d4c11df4-6a90-4723-b9e0-e62e400f00a4"
   },
   "outputs": [
    {
     "name": "stdout",
     "output_type": "stream",
     "text": [
      "[1, 2, 3, 4, 5]\n"
     ]
    }
   ],
   "source": [
    "# Code here\n",
    "list1=[1,2,3,4,5]\n",
    "print(list1)"
   ]
  },
  {
   "cell_type": "markdown",
   "metadata": {
    "id": "M2TOiuioIc6M"
   },
   "source": [
    "# Creatation of Arrays\n",
    "1.Create an array containing 10 elements\n",
    "\n",
    "2.Checking array \"TYPE\"\n",
    "\n",
    "3.Check data type of array elements\n",
    "\n",
    "4.Array dim\n",
    "\n",
    "5.Array Shape\n",
    "\n",
    "6.Bytes per element\n",
    "\n",
    "7.Total bytes in an Array"
   ]
  },
  {
   "cell_type": "code",
   "execution_count": 7,
   "metadata": {
    "colab": {
     "base_uri": "https://localhost:8080/"
    },
    "id": "uy_hPIW4A4uM",
    "outputId": "63e56f73-f97d-47bb-a1d7-3c1710733942"
   },
   "outputs": [
    {
     "name": "stdout",
     "output_type": "stream",
     "text": [
      "[ 0  1  2  3  4  5  6  7  8  9 10]\n",
      "<class 'numpy.ndarray'>\n",
      "int64\n",
      "1\n",
      "(11,)\n",
      "8\n",
      "88\n"
     ]
    }
   ],
   "source": [
    "# Create 'int' array and repeat above mention steps 1-7\n",
    "# 1.Create an array containing 10 elements\n",
    "arr1=np.arange(11)\n",
    "print(arr1)\n",
    "# 2.Checking array \"TYPE\"\n",
    "print(type(arr1))\n",
    "# 3.Check data type of array elements\n",
    "print(arr1.dtype)\n",
    "# 4.Array dim\n",
    "print(arr1.ndim)\n",
    "# 5.Array Shape\n",
    "print(arr1.shape)\n",
    "# 6.Bytes per element\n",
    "print(arr1.itemsize)\n",
    "# 7.Total bytes in an Array\n",
    "print(arr1.nbytes)"
   ]
  },
  {
   "cell_type": "code",
   "execution_count": 10,
   "metadata": {
    "colab": {
     "base_uri": "https://localhost:8080/"
    },
    "id": "tf9pmYpYLuEu",
    "outputId": "a7bdc410-c71a-4f3d-a76c-753480415c24"
   },
   "outputs": [
    {
     "name": "stdout",
     "output_type": "stream",
     "text": [
      "[ 0.  1.  2.  3.  4.  5.  6.  7.  8.  9. 10.]\n",
      "<class 'numpy.ndarray'>\n",
      "float64\n",
      "1\n",
      "(11,)\n",
      "8\n",
      "88\n"
     ]
    }
   ],
   "source": [
    "# Create 'float' array and repeat above mention steps 1-7\n",
    "# 1.Create an array containing 10 elements\n",
    "f_arr1=np.arange(11.0)\n",
    "print(f_arr1)\n",
    "# 2.Checking array \"TYPE\"\n",
    "print(type(f_arr1))\n",
    "# 3.Check data type of array elements\n",
    "print(f_arr1.dtype)\n",
    "# 4.Array dim\n",
    "print(f_arr1.ndim)\n",
    "# 5.Array Shape\n",
    "print(f_arr1.shape)\n",
    "# 6.Bytes per element\n",
    "print(f_arr1.itemsize)\n",
    "# 7.Total bytes in an Array\n",
    "print(f_arr1.nbytes)"
   ]
  },
  {
   "cell_type": "markdown",
   "metadata": {
    "id": "czi-ntWzFJ0M"
   },
   "source": [
    "-Try to assign a float into an int32\n",
    "\n",
    "-Use .fill function # fill has the same behavior\n"
   ]
  },
  {
   "cell_type": "code",
   "execution_count": 18,
   "metadata": {
    "colab": {
     "base_uri": "https://localhost:8080/"
    },
    "id": "5r2iCLhHFq_-",
    "outputId": "41336d3d-637f-471d-e30d-a87791dfa535"
   },
   "outputs": [
    {
     "name": "stdout",
     "output_type": "stream",
     "text": [
      "int32\n",
      "[1 1 1 1 1 1 1 1 1 1 1]\n"
     ]
    }
   ],
   "source": [
    "# -Try to assign a float into an int32\n",
    "int_arr1=np.arange(11,dtype=np.int32)\n",
    "print(int_arr1.dtype)\n",
    "# Use .fill function\n",
    "int_arr1.fill(1.0)\n",
    "print(int_arr1)"
   ]
  },
  {
   "cell_type": "markdown",
   "metadata": {
    "id": "UK4-Grt0F8_k"
   },
   "source": [
    "-. Add two  arrays\n",
    "\n",
    "-. Multiple both arrays\n",
    "\n",
    "-.Use ** operator in array operation\n",
    "\n",
    "-.Create array from 0.0 to 11.0\n",
    "\n",
    "-.Multiply entire array with a scalar value\n",
    " c = (2.0 * np.pi)\n",
    "\n",
    "-.Use np.arrange function to create an array with step of 0.5 from 1.0 to 3.0"
   ]
  },
  {
   "cell_type": "code",
   "execution_count": 21,
   "metadata": {
    "colab": {
     "base_uri": "https://localhost:8080/"
    },
    "id": "1cRgGYTdGayU",
    "outputId": "c752c983-857e-4002-94db-5fbcff9fc93d"
   },
   "outputs": [
    {
     "name": "stdout",
     "output_type": "stream",
     "text": [
      "[0 1 2 3 4]\n",
      "[5 6 7 8 9]\n",
      "[ 5  7  9 11 13]\n",
      "[ 0  6 14 24 36]\n",
      "[     0      1    128   6561 262144]\n",
      "[ 0.          6.28318531 12.56637061 18.84955592 25.13274123]\n",
      "[1.  1.5 2.  2.5]\n"
     ]
    }
   ],
   "source": [
    "arr1=np.arange(5)\n",
    "arr2=np.arange(5,10)\n",
    "print(arr1)\n",
    "print(arr2)\n",
    "# -Add two  arrays\n",
    "print(arr1+arr2)\n",
    "# -Multiple both arrays\n",
    "print(arr1*arr2)\n",
    "# -Use ** operator in array operation\n",
    "print(arr1**arr2)\n",
    "# -.Multiply entire array with a scalar value c = (2.0 * np.pi)\n",
    "c = (2.0 * np.pi)\n",
    "print(c*arr1)\n",
    "# -Use np.arrange function to create an array with step of 0.5 from 1.0 to 3.0\n",
    "print(np.arange(1.0,3.0,0.5))"
   ]
  },
  {
   "cell_type": "code",
   "execution_count": null,
   "metadata": {
    "id": "quJbaRWQ4fFd"
   },
   "outputs": [],
   "source": []
  },
  {
   "cell_type": "markdown",
   "metadata": {
    "id": "oDCOd3184f7q"
   },
   "source": [
    "# Slicing\n",
    "var[lower:upper:step]\n",
    "• Extracts a portion of a sequence by specifying a lower and upper bound.\n",
    "\n",
    "• The lower-bound element is included, but the upper-bound element is not included.\n",
    "\n",
    "• Mathematically: [lower, upper). The step value specifies the stride between elements.\n",
    "\n",
    "1. Etract array indices from 1 to 3:\n",
    "2. Use negative indices as well\n",
    "3. Omitted boundaries are assumed to be the beginning (or end) of the array grab first three elements\n",
    "4. Grab last two elements\n",
    "5. Grab every other element\n",
    "6. slicing the last two elements returns the data there\n",
    "7. Can we insert an iterable of length two? or a scalar value\n",
    "8.Arrays created by slicing share data with the originating array. Changing values in a slice also changes the original array.\n",
    "For example create a slice containing two elements of a changing b changed a! Have an experiment\n",
    "9. if an array a = [[0,1,2,3,4][1,2,3,4,5], extract values from row 1 and col 0,2,4\n",
    "10. Perform some masking on a = np.arange(0,36).reshape(6,6)\n",
    "with mask = np.array([1, 0, 1, 0, 0, 1])\n"
   ]
  },
  {
   "cell_type": "code",
   "execution_count": 48,
   "metadata": {
    "colab": {
     "base_uri": "https://localhost:8080/"
    },
    "id": "CVqexfEBMB-w",
    "outputId": "c776d570-97b8-4c6a-b6ba-1c8c8cd89e88"
   },
   "outputs": [
    {
     "name": "stdout",
     "output_type": "stream",
     "text": [
      "[1 2 3]\n",
      "[1 2 3]\n",
      "[0 1 2]\n",
      "[ 9 10]\n",
      "[ 0  1  2  3  4  5  6  7  8  9 10]\n",
      "[ 9 10]\n",
      "[0 1 2 3 4 5]\n",
      "[0 1 2 3 6]\n",
      "[ 0  1 10  3  4  5  6]\n",
      "[1 3 5]\n",
      "[[ 0  1  2  3  4  5]\n",
      " [12 13 14 15 16 17]\n",
      " [30 31 32 33 34 35]]\n"
     ]
    }
   ],
   "source": [
    "arr1=np.arange(11)\n",
    "# Etract array indices from 1 to 3:\n",
    "print(arr1[1:4])\n",
    "# Use negative indices as well\n",
    "print(arr1[-10:-7:1])\n",
    "# Omitted boundaries are assumed to be the beginning (or end) of the array grab first three elements\n",
    "print(arr1[:3])\n",
    "# Grab last two elements\n",
    "print(arr1[-2::])\n",
    "# Grab every other element\n",
    "print(arr1)\n",
    "# slicing the last two elements returns the data there\n",
    "print(arr1[-2::])\n",
    "# Can we insert an iterable of length two? or a scalar value\n",
    "arr1=np.arange(4)\n",
    "arr1=np.append(arr1,[4,5])\n",
    "print(arr1) #YES\n",
    "#or a scalar value\n",
    "arr1=np.arange(4)\n",
    "arr1=np.append(arr1,6)\n",
    "print(arr1)  #YES\n",
    "# Arrays created by slicing share data with the originating array. Changing values in a slice also changes the original array. For example create a slice containing two elements of a changing b changed a! Have an experiment\n",
    "arr1=np.arange(7)\n",
    "b=arr1[2:4]\n",
    "b[0]=10\n",
    "print(arr1) # Yes it changes the main array\n",
    "# if an array a = [[0,1,2,3,4][1,2,3,4,5], extract values from row 1 and col 0,2,4\n",
    "a=np.array([[0,1,2,3,4],[1,2,3,4,5]])\n",
    "print(a[1,[0,2,4]])\n",
    "# Perform some masking on a = np.arange(0,36).reshape(6,6)\n",
    "# with mask = np.array([1, 0, 1, 0, 0, 1])\n",
    "a = np.arange(0,36).reshape(6,6)\n",
    "mask = np.array([1, 0, 1, 0, 0, 1])\n",
    "masked_arr=a[mask==1]\n",
    "print(masked_arr)"
   ]
  },
  {
   "cell_type": "code",
   "execution_count": 3,
   "metadata": {},
   "outputs": [
    {
     "data": {
      "text/plain": [
       "array([[13, 75, 28, 39,  5, 27],\n",
       "       [82, 53, 43, 87,  7, 11],\n",
       "       [45, 91, 89,  1, 35, 62],\n",
       "       [92, 27, 68, 15, 74, 53],\n",
       "       [12, 50, 58, 11,  3, 78]])"
      ]
     },
     "execution_count": 3,
     "metadata": {},
     "output_type": "execute_result"
    }
   ],
   "source": [
    "import numpy as np\n",
    "arr=np.random.randint(1,100,size=(5,6))\n",
    "arr\n",
    "row=[1,2,4]\n",
    "col=[]"
   ]
  },
  {
   "cell_type": "markdown",
   "metadata": {
    "id": "dtdK16fbuNFr"
   },
   "source": [
    "### Create a 2-D array where the first row goes from 10 to 80 exclusive with steps of 5 and 2nd row goes from 5 to 47 exclusive with steps of 3"
   ]
  },
  {
   "cell_type": "code",
   "execution_count": 50,
   "metadata": {
    "colab": {
     "base_uri": "https://localhost:8080/"
    },
    "id": "NEv2AdwRuNFr",
    "outputId": "22d59547-b830-4207-aa82-f2623a8a4512",
    "scrolled": true
   },
   "outputs": [
    {
     "name": "stdout",
     "output_type": "stream",
     "text": [
      "[[10 15 20 25 30 35 40 45 50 55 60 65 70 75]\n",
      " [ 5  8 11 14 17 20 23 26 29 32 35 38 41 44]]\n"
     ]
    }
   ],
   "source": [
    "arr=np.arange(10,80,5)\n",
    "arr1=np.arange(5,47,3)\n",
    "arr2=np.array([arr,arr1])\n",
    "print(arr2)"
   ]
  },
  {
   "cell_type": "markdown",
   "metadata": {
    "id": "uBMvp0dkuNFr",
    "jp-MarkdownHeadingCollapsed": true
   },
   "source": [
    "### Now use indexing to select the 5th 7th and 11th columns"
   ]
  },
  {
   "cell_type": "code",
   "execution_count": 51,
   "metadata": {
    "colab": {
     "base_uri": "https://localhost:8080/"
    },
    "id": "Uwib0iReuNFr",
    "outputId": "59dd1fe6-5646-4ac7-ed7f-6d0c59b77009"
   },
   "outputs": [
    {
     "data": {
      "text/plain": [
       "array([[35, 45, 65],\n",
       "       [20, 26, 38]])"
      ]
     },
     "execution_count": 51,
     "metadata": {},
     "output_type": "execute_result"
    }
   ],
   "source": [
    "#Code\n",
    "arr2[:,[5,7,11]]"
   ]
  },
  {
   "cell_type": "markdown",
   "metadata": {
    "id": "pCeAmriquNFs"
   },
   "source": [
    "### Select the 2nd row and fourth-last to second-last columns"
   ]
  },
  {
   "cell_type": "code",
   "execution_count": 56,
   "metadata": {
    "colab": {
     "base_uri": "https://localhost:8080/"
    },
    "id": "dsz97hyEuNFs",
    "outputId": "13c649b2-8c8a-4f96-9fab-04c648c95395"
   },
   "outputs": [
    {
     "data": {
      "text/plain": [
       "array([35, 38, 41])"
      ]
     },
     "execution_count": 56,
     "metadata": {},
     "output_type": "execute_result"
    }
   ],
   "source": [
    "# Select the 2nd row and fourth-last to second-last columns\n",
    "arr2[1,-4:-1:1]"
   ]
  },
  {
   "cell_type": "markdown",
   "metadata": {
    "id": "Be1-LD8uuNFs"
   },
   "source": [
    "### Select 3rd to 3rd last columns skipping every second column"
   ]
  },
  {
   "cell_type": "code",
   "execution_count": 59,
   "metadata": {
    "colab": {
     "base_uri": "https://localhost:8080/"
    },
    "id": "6cEZa9fjuNFs",
    "outputId": "0eb3b013-85c9-49e7-a465-cdfff21bfbc4"
   },
   "outputs": [
    {
     "data": {
      "text/plain": [
       "array([[25, 35, 45, 55, 65],\n",
       "       [14, 20, 26, 32, 38]])"
      ]
     },
     "execution_count": 59,
     "metadata": {},
     "output_type": "execute_result"
    }
   ],
   "source": [
    "arr2[:,3:-2:2]"
   ]
  },
  {
   "cell_type": "markdown",
   "metadata": {
    "id": "RcFwCMF_uNFt"
   },
   "source": [
    "###  Select 3rd to 3rd last columns skipping every second column but in reverse order"
   ]
  },
  {
   "cell_type": "code",
   "execution_count": 60,
   "metadata": {
    "colab": {
     "base_uri": "https://localhost:8080/"
    },
    "id": "zpA6vg6ruNFt",
    "outputId": "51e306b0-3bf9-4627-c858-0d95c3430ad3"
   },
   "outputs": [
    {
     "data": {
      "text/plain": [
       "array([[65, 55, 45, 35, 25],\n",
       "       [38, 32, 26, 20, 14]])"
      ]
     },
     "execution_count": 60,
     "metadata": {},
     "output_type": "execute_result"
    }
   ],
   "source": [
    "arr2[:,-3:1:-2]"
   ]
  },
  {
   "cell_type": "markdown",
   "metadata": {
    "id": "uO-B0OXYWl7A"
   },
   "source": [
    "### Zip Operations on Numpy Arrays\n",
    "Use a zip function on two arrys.\n",
    "\n",
    "Create another array which would be the sum of corresponding elements of two arrays using for loop."
   ]
  },
  {
   "cell_type": "code",
   "execution_count": 62,
   "metadata": {
    "colab": {
     "base_uri": "https://localhost:8080/"
    },
    "id": "QWAhbiOXHEc9",
    "outputId": "d2b523d8-627e-4b1c-f984-60a2b4a672d8"
   },
   "outputs": [
    {
     "name": "stdout",
     "output_type": "stream",
     "text": [
      "[3, 5, 7, 9]\n"
     ]
    }
   ],
   "source": [
    "a = [1, 2, 3, 4]\n",
    "b = [2, 3, 4, 5]\n",
    "c=[]\n",
    "for i,j in zip(a,b):\n",
    "    c.append(i+j)\n",
    "print(c)"
   ]
  },
  {
   "cell_type": "code",
   "execution_count": 63,
   "metadata": {
    "colab": {
     "base_uri": "https://localhost:8080/"
    },
    "id": "ePXox_XHMQTr",
    "outputId": "6ab8a5d3-9beb-4c45-8410-bb8c2f1a7157"
   },
   "outputs": [
    {
     "name": "stdout",
     "output_type": "stream",
     "text": [
      "[3, 5, 7, 9]\n"
     ]
    }
   ],
   "source": [
    "#For loop to add corresponding elements in two lists\n",
    "c=[]\n",
    "for i in range(len(a)):\n",
    "    c.append(a[i]+b[i])\n",
    "print(c)"
   ]
  },
  {
   "cell_type": "code",
   "execution_count": null,
   "metadata": {
    "id": "RShCwdYwHcC2"
   },
   "outputs": [],
   "source": []
  }
 ],
 "metadata": {
  "colab": {
   "provenance": []
  },
  "kernelspec": {
   "display_name": "Python 3 (ipykernel)",
   "language": "python",
   "name": "python3"
  },
  "language_info": {
   "codemirror_mode": {
    "name": "ipython",
    "version": 3
   },
   "file_extension": ".py",
   "mimetype": "text/x-python",
   "name": "python",
   "nbconvert_exporter": "python",
   "pygments_lexer": "ipython3",
   "version": "3.12.4"
  }
 },
 "nbformat": 4,
 "nbformat_minor": 4
}
