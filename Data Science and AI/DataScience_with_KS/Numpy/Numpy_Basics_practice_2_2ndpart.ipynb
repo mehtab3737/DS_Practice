{
  "cells": [
    {
      "cell_type": "code",
      "execution_count": 1,
      "id": "2a8a0fa8-ceee-4b65-9739-39bdbf33d23c",
      "metadata": {
        "id": "2a8a0fa8-ceee-4b65-9739-39bdbf33d23c"
      },
      "outputs": [],
      "source": [
        "import numpy as np"
      ]
    },
    {
      "cell_type": "markdown",
      "id": "6cd94836-36bf-4eca-a68c-4d4afb52ef7d",
      "metadata": {
        "id": "6cd94836-36bf-4eca-a68c-4d4afb52ef7d"
      },
      "source": [
        "# Q1"
      ]
    },
    {
      "cell_type": "markdown",
      "id": "26a82645-942a-40ba-9d5b-a58c65d27817",
      "metadata": {
        "id": "26a82645-942a-40ba-9d5b-a58c65d27817"
      },
      "source": [
        "Statement: Given a 3D NumPy array arr of shape (2, 3, 4), write a code snippet to calculate the sum of all elements in the array.\n",
        "\n",
        "Sample Input:"
      ]
    },
    {
      "cell_type": "code",
      "execution_count": 4,
      "id": "dbf71bf2-1ac9-48f3-96fb-5f22ad767b29",
      "metadata": {
        "id": "dbf71bf2-1ac9-48f3-96fb-5f22ad767b29",
        "colab": {
          "base_uri": "https://localhost:8080/"
        },
        "outputId": "955b783d-2073-42e2-ebc1-0fe7ac71b225"
      },
      "outputs": [
        {
          "output_type": "stream",
          "name": "stdout",
          "text": [
            "276\n"
          ]
        }
      ],
      "source": [
        "arr=np.arange(24).reshape(2,3,4)\n",
        "print(np.sum(arr))"
      ]
    },
    {
      "cell_type": "markdown",
      "id": "14bd52a2-86d8-4ef6-b1ee-de66e9703458",
      "metadata": {
        "id": "14bd52a2-86d8-4ef6-b1ee-de66e9703458"
      },
      "source": [
        "# Q2"
      ]
    },
    {
      "cell_type": "markdown",
      "id": "9a536e77-25c6-4b63-906b-7aa8eaaa073e",
      "metadata": {
        "id": "9a536e77-25c6-4b63-906b-7aa8eaaa073e"
      },
      "source": [
        "\n",
        "\n",
        "```\n",
        "# This is formatted as code\n",
        "```\n",
        "\n",
        "Statement: Write a NumPy code snippet to create a 4D array arr of shape (2, 3, 4, 5) filled with random integers ranging from 0 to 9.\n",
        "\n",
        "Sample Output:"
      ]
    },
    {
      "cell_type": "code",
      "execution_count": 8,
      "id": "5602b3f2-13e2-4585-9870-9bc07563c60e",
      "metadata": {
        "id": "5602b3f2-13e2-4585-9870-9bc07563c60e",
        "colab": {
          "base_uri": "https://localhost:8080/"
        },
        "outputId": "15be4014-4896-4788-85c6-96568482d63e"
      },
      "outputs": [
        {
          "output_type": "execute_result",
          "data": {
            "text/plain": [
              "array([[[[3, 7, 9, 2, 1],\n",
              "         [7, 5, 7, 5, 3],\n",
              "         [7, 1, 4, 2, 9],\n",
              "         [4, 6, 2, 5, 1]],\n",
              "\n",
              "        [[4, 6, 6, 5, 2],\n",
              "         [9, 8, 9, 7, 3],\n",
              "         [1, 0, 0, 3, 3],\n",
              "         [9, 6, 8, 2, 2]],\n",
              "\n",
              "        [[6, 2, 0, 5, 2],\n",
              "         [9, 2, 4, 7, 6],\n",
              "         [3, 9, 4, 8, 2],\n",
              "         [5, 4, 7, 2, 2]]],\n",
              "\n",
              "\n",
              "       [[[6, 5, 2, 4, 7],\n",
              "         [1, 7, 2, 7, 9],\n",
              "         [1, 2, 1, 1, 6],\n",
              "         [6, 3, 9, 1, 7]],\n",
              "\n",
              "        [[9, 3, 9, 7, 1],\n",
              "         [0, 2, 4, 1, 8],\n",
              "         [9, 8, 8, 9, 7],\n",
              "         [6, 9, 3, 5, 7]],\n",
              "\n",
              "        [[3, 6, 4, 1, 6],\n",
              "         [9, 7, 1, 7, 1],\n",
              "         [0, 5, 8, 4, 8],\n",
              "         [7, 2, 4, 6, 5]]]])"
            ]
          },
          "metadata": {},
          "execution_count": 8
        }
      ],
      "source": [
        "# Answer Here\n",
        "arr=np.random.randint(0,10,size=(2, 3, 4, 5))\n",
        "arr"
      ]
    },
    {
      "cell_type": "markdown",
      "id": "540f8d57-6cc0-4e53-8744-787e868276a4",
      "metadata": {
        "id": "540f8d57-6cc0-4e53-8744-787e868276a4"
      },
      "source": [
        "# Q3"
      ]
    },
    {
      "cell_type": "markdown",
      "id": "37497bad-10e3-4c65-b4f6-65bb5ed0b00d",
      "metadata": {
        "id": "37497bad-10e3-4c65-b4f6-65bb5ed0b00d"
      },
      "source": [
        "Statement: Given a 4D NumPy array arr of shape (2, 3, 4, 5), write a code snippet to calculate the mean along the second axis.\n",
        "\n",
        "Sample Input:"
      ]
    },
    {
      "cell_type": "code",
      "execution_count": 10,
      "id": "84df3761-5341-4010-b541-6a79a1b74625",
      "metadata": {
        "id": "84df3761-5341-4010-b541-6a79a1b74625",
        "colab": {
          "base_uri": "https://localhost:8080/"
        },
        "outputId": "56aec3e3-d65b-48c7-c1c5-b705a1d1dec3"
      },
      "outputs": [
        {
          "output_type": "stream",
          "name": "stdout",
          "text": [
            "[[[3.         5.         2.33333333 6.         8.33333333]\n",
            "  [3.         4.66666667 5.66666667 2.66666667 5.66666667]\n",
            "  [4.33333333 5.66666667 3.         4.         3.33333333]\n",
            "  [7.         3.66666667 4.33333333 3.         5.66666667]]\n",
            "\n",
            " [[4.33333333 3.33333333 1.         1.33333333 6.33333333]\n",
            "  [2.         3.66666667 6.33333333 7.33333333 3.66666667]\n",
            "  [3.         7.33333333 1.66666667 3.66666667 3.33333333]\n",
            "  [7.         3.         4.         6.33333333 5.66666667]]]\n"
          ]
        }
      ],
      "source": [
        "# Answer Here\n",
        "arr=np.random.randint(0,10,size=(2, 3, 4, 5))\n",
        "print(np.mean(arr,axis=1))"
      ]
    },
    {
      "cell_type": "markdown",
      "id": "9d4cd387-ca18-4951-a1ab-63a7a1f80a0d",
      "metadata": {
        "id": "9d4cd387-ca18-4951-a1ab-63a7a1f80a0d"
      },
      "source": [
        "# Q4"
      ]
    },
    {
      "cell_type": "markdown",
      "id": "768891f0-dd85-4a6b-a336-31061a30945f",
      "metadata": {
        "id": "768891f0-dd85-4a6b-a336-31061a30945f"
      },
      "source": [
        "Statement: You have collected data from a temperature sensor placed at different locations over a period of time. The recorded temperatures are stored in a 3D NumPy array temps of shape (7, 24, 60), where the dimensions represent the number of days, hours in a day, and minutes in an hour, respectively. Write a code snippet to calculate the average temperature for each day.\n",
        "\n",
        "Sample Input:"
      ]
    },
    {
      "cell_type": "code",
      "execution_count": 18,
      "id": "905df96f-ee7f-410f-adae-88758871af96",
      "metadata": {
        "id": "905df96f-ee7f-410f-adae-88758871af96",
        "colab": {
          "base_uri": "https://localhost:8080/"
        },
        "outputId": "3e32d30f-dd97-40e5-fa80-de6d512dc331"
      },
      "outputs": [
        {
          "output_type": "stream",
          "name": "stdout",
          "text": [
            "[35.55208333 35.40416667 35.43819444 35.43472222 35.40416667 35.49861111\n",
            " 35.47569444]\n"
          ]
        }
      ],
      "source": [
        "# Answer Here\n",
        "arr=np.random.randint(30,42,size=(7,24,60))\n",
        "avg_daily_mean=np.mean(arr,axis=(1,2))\n",
        "print(avg_daily_mean)"
      ]
    },
    {
      "cell_type": "markdown",
      "id": "f8913844-39a1-4d9b-a434-7af478336f20",
      "metadata": {
        "id": "f8913844-39a1-4d9b-a434-7af478336f20"
      },
      "source": [
        "Sample Output:\n",
        "\n",
        "array([27.43864059, 26.99643944, 27.10398301, 27.43854821, 26.81072977,\n",
        "       26.76581481, 27.07946152])"
      ]
    },
    {
      "cell_type": "markdown",
      "id": "55a224ca-01c9-4b13-8bc9-1db7269a35d5",
      "metadata": {
        "id": "55a224ca-01c9-4b13-8bc9-1db7269a35d5"
      },
      "source": [
        "# Q5"
      ]
    },
    {
      "cell_type": "markdown",
      "id": "af5efd9b-ff4f-4ae1-af9a-da9bf621d3bd",
      "metadata": {
        "id": "af5efd9b-ff4f-4ae1-af9a-da9bf621d3bd"
      },
      "source": [
        "Statement: You have collected data from multiple sensors placed in different rooms of a building. The sensor readings are stored in a 4D NumPy array readings of shape (4, 7, 24, 60), where the dimensions represent the number of sensors, number of days, hours in a day, and minutes in an hour, respectively. Write a code snippet to calculate the maximum reading for each sensor across all days."
      ]
    },
    {
      "cell_type": "code",
      "execution_count": 20,
      "id": "79873e69-35ad-4bde-ba48-cf33218b1dc2",
      "metadata": {
        "id": "79873e69-35ad-4bde-ba48-cf33218b1dc2",
        "colab": {
          "base_uri": "https://localhost:8080/"
        },
        "outputId": "69cd7b32-8b97-4169-86b1-25a1dda79952"
      },
      "outputs": [
        {
          "output_type": "stream",
          "name": "stdout",
          "text": [
            "[74.49037698 74.55178571 74.44265873 74.72321429]\n"
          ]
        }
      ],
      "source": [
        "# Answer Here\n",
        "# Answer Here\n",
        "arr=np.random.randint(50,100,size=(4,7,24,60))\n",
        "max_readings_per_sensor =np.mean(arr,axis=(1,2,3))\n",
        "print(max_readings_per_sensor )"
      ]
    },
    {
      "cell_type": "markdown",
      "id": "e8ca2836-0977-4b11-a214-a93630131927",
      "metadata": {
        "id": "e8ca2836-0977-4b11-a214-a93630131927"
      },
      "source": [
        "# Q6"
      ]
    },
    {
      "cell_type": "markdown",
      "id": "b324cb33-b481-4cf8-a148-9292ec382a8c",
      "metadata": {
        "id": "b324cb33-b481-4cf8-a148-9292ec382a8c"
      },
      "source": [
        "Statement: You have collected data from a 3D printer that measures the dimensions of printed objects. The recorded dimensions are stored in a 3D NumPy array dimensions of shape (100, 50, 3), where the dimensions represent the number of printed objects, number of measurements for each object, and the three dimensions (length, width, height), respectively. Write a code snippet to calculate the average length, width, and height across all objects.\n",
        "\n",
        "Sample Inpumt:"
      ]
    },
    {
      "cell_type": "code",
      "execution_count": 24,
      "id": "d1199cf1-5f47-45f5-a090-615021490d8e",
      "metadata": {
        "id": "d1199cf1-5f47-45f5-a090-615021490d8e",
        "colab": {
          "base_uri": "https://localhost:8080/"
        },
        "outputId": "df08a460-e506-47dd-b132-b251d8e098df"
      },
      "outputs": [
        {
          "output_type": "stream",
          "name": "stdout",
          "text": [
            "average length  of all objects 0.5061862582307812\n",
            "average width of all objects 0.4927442970765481\n",
            "average height of all objects 0.4935383472803382\n"
          ]
        }
      ],
      "source": [
        "# Answer Here\n",
        "arr=np.random.rand(100, 50, 3)\n",
        "avg =np.mean(arr,axis=(0,1))\n",
        "print(\"average length  of all objects\",avg[0])\n",
        "print(\"average width of all objects\",avg[1])\n",
        "print(\"average height of all objects\",avg[2])\n"
      ]
    },
    {
      "cell_type": "markdown",
      "id": "a3c20cfa-7ad6-437b-8837-1eabded47ac7",
      "metadata": {
        "id": "a3c20cfa-7ad6-437b-8837-1eabded47ac7"
      },
      "source": [
        "# Q7"
      ]
    },
    {
      "cell_type": "markdown",
      "id": "c5c5e835-2d6d-4bec-a700-4125e2ea7375",
      "metadata": {
        "id": "c5c5e835-2d6d-4bec-a700-4125e2ea7375"
      },
      "source": [
        "Statement: You are given a 3D NumPy array data of shape (5, 6, 7) representing the sensor readings from multiple sensors placed in different locations over a period of time. Each sensor provides measurements at different time points. Write a code snippet to calculate the following statistics for each sensor:\n",
        "\n",
        "Total number of measurements\n",
        "\n",
        "Average measurement value\n",
        "\n",
        "Standard deviation of measurements\n",
        "\n",
        "Minimum measurement value\n",
        "\n",
        "Maximum measurement value\n",
        "\n",
        "Sample Input:"
      ]
    },
    {
      "cell_type": "code",
      "execution_count": 37,
      "id": "46256376-8395-460c-a736-71a83252e47f",
      "metadata": {
        "id": "46256376-8395-460c-a736-71a83252e47f",
        "colab": {
          "base_uri": "https://localhost:8080/"
        },
        "outputId": "1c487f83-74c0-44f2-f42c-181b19ba86c7"
      },
      "outputs": [
        {
          "output_type": "stream",
          "name": "stdout",
          "text": [
            "Total number of measurements 6\n",
            "Average measurement value [[0.56702565 0.49548725 0.43293888 0.37898257 0.47676208 0.50146956\n",
            "  0.57155645]\n",
            " [0.58789044 0.58070455 0.563361   0.6503693  0.49460201 0.58501931\n",
            "  0.56138527]\n",
            " [0.64976359 0.5393745  0.72235635 0.38134486 0.37122136 0.39501035\n",
            "  0.34411608]\n",
            " [0.39561427 0.62334745 0.49009544 0.35756663 0.46384547 0.62008171\n",
            "  0.66510026]\n",
            " [0.44085673 0.40810037 0.44227345 0.42100244 0.60837016 0.28151175\n",
            "  0.41498029]]\n",
            "Standard deviation of measurements [[0.31193409 0.28739075 0.26986195 0.28712562 0.33735583 0.28978852\n",
            "  0.31155754]\n",
            " [0.21464102 0.21766647 0.26012039 0.17794309 0.28451569 0.14835883\n",
            "  0.22824665]\n",
            " [0.22628046 0.20159394 0.35551232 0.249967   0.26379024 0.17790269\n",
            "  0.36896412]\n",
            " [0.29805524 0.17079308 0.32789204 0.3108642  0.36987004 0.29348524\n",
            "  0.35986997]\n",
            " [0.33301604 0.31009073 0.20226599 0.21061896 0.34442724 0.29325265\n",
            "  0.23346137]]\n",
            "Minimum measurement value [[0.20029198 0.13450848 0.12008432 0.05238438 0.00723533 0.1760164\n",
            "  0.27044446]\n",
            " [0.31424508 0.14814771 0.14433277 0.38983762 0.15264729 0.33871279\n",
            "  0.12067439]\n",
            " [0.41394438 0.35783624 0.03297477 0.08660731 0.08301312 0.06784161\n",
            "  0.04513839]\n",
            " [0.0586872  0.41777921 0.04321017 0.01437579 0.04290611 0.17985175\n",
            "  0.06068276]\n",
            " [0.00622165 0.011508   0.21224465 0.04600677 0.06868529 0.00377008\n",
            "  0.13264855]]\n",
            "Maximum measurement value [[0.98743017 0.90832401 0.86261825 0.80671395 0.88181266 0.93728261\n",
            "  0.99956238]\n",
            " [0.8995933  0.85742459 0.99467978 0.91246122 0.988576   0.70765963\n",
            "  0.87398989]\n",
            " [0.97670283 0.95330496 0.98977963 0.73998866 0.8618715  0.56994804\n",
            "  0.93168814]\n",
            " [0.93668219 0.87236658 0.85726174 0.92554797 0.95255085 0.99896384\n",
            "  0.98093703]\n",
            " [0.88502698 0.93254644 0.77745848 0.66742399 0.98705837 0.89238343\n",
            "  0.7647817 ]]\n"
          ]
        }
      ],
      "source": [
        "# Answer Here\n",
        "arr=np.random.rand(5, 6, 7)\n",
        "print(\"Total number of measurements\",arr.shape[1])\n",
        "print(\"Average measurement value\",np.mean(arr,axis=1))\n",
        "print(\"Standard deviation of measurements\",np.std(arr,axis=1))\n",
        "print(\"Minimum measurement value\",np.min(arr,axis=1))\n",
        "print(\"Maximum measurement value\",np.max(arr,axis=1))"
      ]
    },
    {
      "cell_type": "code",
      "execution_count": null,
      "id": "87f085a1-fec3-40e5-90db-d535c0de01c0",
      "metadata": {
        "id": "87f085a1-fec3-40e5-90db-d535c0de01c0"
      },
      "outputs": [],
      "source": []
    }
  ],
  "metadata": {
    "kernelspec": {
      "display_name": "Python 3 (ipykernel)",
      "language": "python",
      "name": "python3"
    },
    "language_info": {
      "codemirror_mode": {
        "name": "ipython",
        "version": 3
      },
      "file_extension": ".py",
      "mimetype": "text/x-python",
      "name": "python",
      "nbconvert_exporter": "python",
      "pygments_lexer": "ipython3",
      "version": "3.10.8"
    },
    "colab": {
      "provenance": []
    }
  },
  "nbformat": 4,
  "nbformat_minor": 5
}